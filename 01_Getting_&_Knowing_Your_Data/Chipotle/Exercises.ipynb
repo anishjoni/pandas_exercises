{
  "cells": [
    {
      "cell_type": "markdown",
      "metadata": {
        "id": "view-in-github",
        "colab_type": "text"
      },
      "source": [
        "<a href=\"https://colab.research.google.com/github/anishjoni/pandas_exercises/blob/master/01_Getting_%26_Knowing_Your_Data/Chipotle/Exercises.ipynb\" target=\"_parent\"><img src=\"https://colab.research.google.com/assets/colab-badge.svg\" alt=\"Open In Colab\"/></a>"
      ]
    },
    {
      "cell_type": "markdown",
      "metadata": {
        "id": "_jMVA5W_NEzt"
      },
      "source": [
        "# Ex2 - Getting and Knowing your Data"
      ]
    },
    {
      "cell_type": "markdown",
      "metadata": {
        "id": "NKT1cImENEzu"
      },
      "source": [
        "This time we are going to pull data directly from the internet.\n",
        "Special thanks to: https://github.com/justmarkham for sharing the dataset and materials.\n",
        "\n",
        "### Step 1. Import the necessary libraries"
      ]
    },
    {
      "cell_type": "code",
      "execution_count": 1,
      "metadata": {
        "id": "WbvJWlkvNEzv"
      },
      "outputs": [],
      "source": [
        "import pandas as pd\n",
        "import numpy as np"
      ]
    },
    {
      "cell_type": "markdown",
      "metadata": {
        "id": "GqYR1-Q0NEzv"
      },
      "source": [
        "### Step 2. Import the dataset from this [address](https://raw.githubusercontent.com/justmarkham/DAT8/master/data/chipotle.tsv)."
      ]
    },
    {
      "cell_type": "markdown",
      "metadata": {
        "id": "YQpzb0b1NEzv"
      },
      "source": [
        "### Step 3. Assign it to a variable called chipo."
      ]
    },
    {
      "cell_type": "code",
      "execution_count": 3,
      "metadata": {
        "id": "5FWmzhkGNEzv"
      },
      "outputs": [],
      "source": [
        "chipo = pd.read_csv('https://raw.githubusercontent.com/justmarkham/DAT8/master/data/chipotle.tsv', sep = '\\t')"
      ]
    },
    {
      "cell_type": "markdown",
      "metadata": {
        "id": "2i2bo7xUNEzv"
      },
      "source": [
        "### Step 4. See the first 10 entries"
      ]
    },
    {
      "cell_type": "code",
      "execution_count": 4,
      "metadata": {
        "scrolled": false,
        "colab": {
          "base_uri": "https://localhost:8080/",
          "height": 363
        },
        "id": "c1gzCoiYNEzv",
        "outputId": "9ca43a89-0756-4a34-a1cb-2a204804ac1a"
      },
      "outputs": [
        {
          "output_type": "execute_result",
          "data": {
            "text/plain": [
              "   order_id  quantity                              item_name  \\\n",
              "0         1         1           Chips and Fresh Tomato Salsa   \n",
              "1         1         1                                   Izze   \n",
              "2         1         1                       Nantucket Nectar   \n",
              "3         1         1  Chips and Tomatillo-Green Chili Salsa   \n",
              "4         2         2                           Chicken Bowl   \n",
              "5         3         1                           Chicken Bowl   \n",
              "6         3         1                          Side of Chips   \n",
              "7         4         1                          Steak Burrito   \n",
              "8         4         1                       Steak Soft Tacos   \n",
              "9         5         1                          Steak Burrito   \n",
              "\n",
              "                                  choice_description item_price  \n",
              "0                                                NaN     $2.39   \n",
              "1                                       [Clementine]     $3.39   \n",
              "2                                            [Apple]     $3.39   \n",
              "3                                                NaN     $2.39   \n",
              "4  [Tomatillo-Red Chili Salsa (Hot), [Black Beans...    $16.98   \n",
              "5  [Fresh Tomato Salsa (Mild), [Rice, Cheese, Sou...    $10.98   \n",
              "6                                                NaN     $1.69   \n",
              "7  [Tomatillo Red Chili Salsa, [Fajita Vegetables...    $11.75   \n",
              "8  [Tomatillo Green Chili Salsa, [Pinto Beans, Ch...     $9.25   \n",
              "9  [Fresh Tomato Salsa, [Rice, Black Beans, Pinto...     $9.25   "
            ],
            "text/html": [
              "\n",
              "  <div id=\"df-e5b5598c-0ef9-4a95-b0bb-09ea505e05eb\" class=\"colab-df-container\">\n",
              "    <div>\n",
              "<style scoped>\n",
              "    .dataframe tbody tr th:only-of-type {\n",
              "        vertical-align: middle;\n",
              "    }\n",
              "\n",
              "    .dataframe tbody tr th {\n",
              "        vertical-align: top;\n",
              "    }\n",
              "\n",
              "    .dataframe thead th {\n",
              "        text-align: right;\n",
              "    }\n",
              "</style>\n",
              "<table border=\"1\" class=\"dataframe\">\n",
              "  <thead>\n",
              "    <tr style=\"text-align: right;\">\n",
              "      <th></th>\n",
              "      <th>order_id</th>\n",
              "      <th>quantity</th>\n",
              "      <th>item_name</th>\n",
              "      <th>choice_description</th>\n",
              "      <th>item_price</th>\n",
              "    </tr>\n",
              "  </thead>\n",
              "  <tbody>\n",
              "    <tr>\n",
              "      <th>0</th>\n",
              "      <td>1</td>\n",
              "      <td>1</td>\n",
              "      <td>Chips and Fresh Tomato Salsa</td>\n",
              "      <td>NaN</td>\n",
              "      <td>$2.39</td>\n",
              "    </tr>\n",
              "    <tr>\n",
              "      <th>1</th>\n",
              "      <td>1</td>\n",
              "      <td>1</td>\n",
              "      <td>Izze</td>\n",
              "      <td>[Clementine]</td>\n",
              "      <td>$3.39</td>\n",
              "    </tr>\n",
              "    <tr>\n",
              "      <th>2</th>\n",
              "      <td>1</td>\n",
              "      <td>1</td>\n",
              "      <td>Nantucket Nectar</td>\n",
              "      <td>[Apple]</td>\n",
              "      <td>$3.39</td>\n",
              "    </tr>\n",
              "    <tr>\n",
              "      <th>3</th>\n",
              "      <td>1</td>\n",
              "      <td>1</td>\n",
              "      <td>Chips and Tomatillo-Green Chili Salsa</td>\n",
              "      <td>NaN</td>\n",
              "      <td>$2.39</td>\n",
              "    </tr>\n",
              "    <tr>\n",
              "      <th>4</th>\n",
              "      <td>2</td>\n",
              "      <td>2</td>\n",
              "      <td>Chicken Bowl</td>\n",
              "      <td>[Tomatillo-Red Chili Salsa (Hot), [Black Beans...</td>\n",
              "      <td>$16.98</td>\n",
              "    </tr>\n",
              "    <tr>\n",
              "      <th>5</th>\n",
              "      <td>3</td>\n",
              "      <td>1</td>\n",
              "      <td>Chicken Bowl</td>\n",
              "      <td>[Fresh Tomato Salsa (Mild), [Rice, Cheese, Sou...</td>\n",
              "      <td>$10.98</td>\n",
              "    </tr>\n",
              "    <tr>\n",
              "      <th>6</th>\n",
              "      <td>3</td>\n",
              "      <td>1</td>\n",
              "      <td>Side of Chips</td>\n",
              "      <td>NaN</td>\n",
              "      <td>$1.69</td>\n",
              "    </tr>\n",
              "    <tr>\n",
              "      <th>7</th>\n",
              "      <td>4</td>\n",
              "      <td>1</td>\n",
              "      <td>Steak Burrito</td>\n",
              "      <td>[Tomatillo Red Chili Salsa, [Fajita Vegetables...</td>\n",
              "      <td>$11.75</td>\n",
              "    </tr>\n",
              "    <tr>\n",
              "      <th>8</th>\n",
              "      <td>4</td>\n",
              "      <td>1</td>\n",
              "      <td>Steak Soft Tacos</td>\n",
              "      <td>[Tomatillo Green Chili Salsa, [Pinto Beans, Ch...</td>\n",
              "      <td>$9.25</td>\n",
              "    </tr>\n",
              "    <tr>\n",
              "      <th>9</th>\n",
              "      <td>5</td>\n",
              "      <td>1</td>\n",
              "      <td>Steak Burrito</td>\n",
              "      <td>[Fresh Tomato Salsa, [Rice, Black Beans, Pinto...</td>\n",
              "      <td>$9.25</td>\n",
              "    </tr>\n",
              "  </tbody>\n",
              "</table>\n",
              "</div>\n",
              "    <div class=\"colab-df-buttons\">\n",
              "\n",
              "  <div class=\"colab-df-container\">\n",
              "    <button class=\"colab-df-convert\" onclick=\"convertToInteractive('df-e5b5598c-0ef9-4a95-b0bb-09ea505e05eb')\"\n",
              "            title=\"Convert this dataframe to an interactive table.\"\n",
              "            style=\"display:none;\">\n",
              "\n",
              "  <svg xmlns=\"http://www.w3.org/2000/svg\" height=\"24px\" viewBox=\"0 -960 960 960\">\n",
              "    <path d=\"M120-120v-720h720v720H120Zm60-500h600v-160H180v160Zm220 220h160v-160H400v160Zm0 220h160v-160H400v160ZM180-400h160v-160H180v160Zm440 0h160v-160H620v160ZM180-180h160v-160H180v160Zm440 0h160v-160H620v160Z\"/>\n",
              "  </svg>\n",
              "    </button>\n",
              "\n",
              "  <style>\n",
              "    .colab-df-container {\n",
              "      display:flex;\n",
              "      gap: 12px;\n",
              "    }\n",
              "\n",
              "    .colab-df-convert {\n",
              "      background-color: #E8F0FE;\n",
              "      border: none;\n",
              "      border-radius: 50%;\n",
              "      cursor: pointer;\n",
              "      display: none;\n",
              "      fill: #1967D2;\n",
              "      height: 32px;\n",
              "      padding: 0 0 0 0;\n",
              "      width: 32px;\n",
              "    }\n",
              "\n",
              "    .colab-df-convert:hover {\n",
              "      background-color: #E2EBFA;\n",
              "      box-shadow: 0px 1px 2px rgba(60, 64, 67, 0.3), 0px 1px 3px 1px rgba(60, 64, 67, 0.15);\n",
              "      fill: #174EA6;\n",
              "    }\n",
              "\n",
              "    .colab-df-buttons div {\n",
              "      margin-bottom: 4px;\n",
              "    }\n",
              "\n",
              "    [theme=dark] .colab-df-convert {\n",
              "      background-color: #3B4455;\n",
              "      fill: #D2E3FC;\n",
              "    }\n",
              "\n",
              "    [theme=dark] .colab-df-convert:hover {\n",
              "      background-color: #434B5C;\n",
              "      box-shadow: 0px 1px 3px 1px rgba(0, 0, 0, 0.15);\n",
              "      filter: drop-shadow(0px 1px 2px rgba(0, 0, 0, 0.3));\n",
              "      fill: #FFFFFF;\n",
              "    }\n",
              "  </style>\n",
              "\n",
              "    <script>\n",
              "      const buttonEl =\n",
              "        document.querySelector('#df-e5b5598c-0ef9-4a95-b0bb-09ea505e05eb button.colab-df-convert');\n",
              "      buttonEl.style.display =\n",
              "        google.colab.kernel.accessAllowed ? 'block' : 'none';\n",
              "\n",
              "      async function convertToInteractive(key) {\n",
              "        const element = document.querySelector('#df-e5b5598c-0ef9-4a95-b0bb-09ea505e05eb');\n",
              "        const dataTable =\n",
              "          await google.colab.kernel.invokeFunction('convertToInteractive',\n",
              "                                                    [key], {});\n",
              "        if (!dataTable) return;\n",
              "\n",
              "        const docLinkHtml = 'Like what you see? Visit the ' +\n",
              "          '<a target=\"_blank\" href=https://colab.research.google.com/notebooks/data_table.ipynb>data table notebook</a>'\n",
              "          + ' to learn more about interactive tables.';\n",
              "        element.innerHTML = '';\n",
              "        dataTable['output_type'] = 'display_data';\n",
              "        await google.colab.output.renderOutput(dataTable, element);\n",
              "        const docLink = document.createElement('div');\n",
              "        docLink.innerHTML = docLinkHtml;\n",
              "        element.appendChild(docLink);\n",
              "      }\n",
              "    </script>\n",
              "  </div>\n",
              "\n",
              "\n",
              "    <div id=\"df-59a2acd7-f376-4a57-81cd-a37f0db868fd\">\n",
              "      <button class=\"colab-df-quickchart\" onclick=\"quickchart('df-59a2acd7-f376-4a57-81cd-a37f0db868fd')\"\n",
              "                title=\"Suggest charts\"\n",
              "                style=\"display:none;\">\n",
              "\n",
              "<svg xmlns=\"http://www.w3.org/2000/svg\" height=\"24px\"viewBox=\"0 0 24 24\"\n",
              "     width=\"24px\">\n",
              "    <g>\n",
              "        <path d=\"M19 3H5c-1.1 0-2 .9-2 2v14c0 1.1.9 2 2 2h14c1.1 0 2-.9 2-2V5c0-1.1-.9-2-2-2zM9 17H7v-7h2v7zm4 0h-2V7h2v10zm4 0h-2v-4h2v4z\"/>\n",
              "    </g>\n",
              "</svg>\n",
              "      </button>\n",
              "\n",
              "<style>\n",
              "  .colab-df-quickchart {\n",
              "      --bg-color: #E8F0FE;\n",
              "      --fill-color: #1967D2;\n",
              "      --hover-bg-color: #E2EBFA;\n",
              "      --hover-fill-color: #174EA6;\n",
              "      --disabled-fill-color: #AAA;\n",
              "      --disabled-bg-color: #DDD;\n",
              "  }\n",
              "\n",
              "  [theme=dark] .colab-df-quickchart {\n",
              "      --bg-color: #3B4455;\n",
              "      --fill-color: #D2E3FC;\n",
              "      --hover-bg-color: #434B5C;\n",
              "      --hover-fill-color: #FFFFFF;\n",
              "      --disabled-bg-color: #3B4455;\n",
              "      --disabled-fill-color: #666;\n",
              "  }\n",
              "\n",
              "  .colab-df-quickchart {\n",
              "    background-color: var(--bg-color);\n",
              "    border: none;\n",
              "    border-radius: 50%;\n",
              "    cursor: pointer;\n",
              "    display: none;\n",
              "    fill: var(--fill-color);\n",
              "    height: 32px;\n",
              "    padding: 0;\n",
              "    width: 32px;\n",
              "  }\n",
              "\n",
              "  .colab-df-quickchart:hover {\n",
              "    background-color: var(--hover-bg-color);\n",
              "    box-shadow: 0 1px 2px rgba(60, 64, 67, 0.3), 0 1px 3px 1px rgba(60, 64, 67, 0.15);\n",
              "    fill: var(--button-hover-fill-color);\n",
              "  }\n",
              "\n",
              "  .colab-df-quickchart-complete:disabled,\n",
              "  .colab-df-quickchart-complete:disabled:hover {\n",
              "    background-color: var(--disabled-bg-color);\n",
              "    fill: var(--disabled-fill-color);\n",
              "    box-shadow: none;\n",
              "  }\n",
              "\n",
              "  .colab-df-spinner {\n",
              "    border: 2px solid var(--fill-color);\n",
              "    border-color: transparent;\n",
              "    border-bottom-color: var(--fill-color);\n",
              "    animation:\n",
              "      spin 1s steps(1) infinite;\n",
              "  }\n",
              "\n",
              "  @keyframes spin {\n",
              "    0% {\n",
              "      border-color: transparent;\n",
              "      border-bottom-color: var(--fill-color);\n",
              "      border-left-color: var(--fill-color);\n",
              "    }\n",
              "    20% {\n",
              "      border-color: transparent;\n",
              "      border-left-color: var(--fill-color);\n",
              "      border-top-color: var(--fill-color);\n",
              "    }\n",
              "    30% {\n",
              "      border-color: transparent;\n",
              "      border-left-color: var(--fill-color);\n",
              "      border-top-color: var(--fill-color);\n",
              "      border-right-color: var(--fill-color);\n",
              "    }\n",
              "    40% {\n",
              "      border-color: transparent;\n",
              "      border-right-color: var(--fill-color);\n",
              "      border-top-color: var(--fill-color);\n",
              "    }\n",
              "    60% {\n",
              "      border-color: transparent;\n",
              "      border-right-color: var(--fill-color);\n",
              "    }\n",
              "    80% {\n",
              "      border-color: transparent;\n",
              "      border-right-color: var(--fill-color);\n",
              "      border-bottom-color: var(--fill-color);\n",
              "    }\n",
              "    90% {\n",
              "      border-color: transparent;\n",
              "      border-bottom-color: var(--fill-color);\n",
              "    }\n",
              "  }\n",
              "</style>\n",
              "\n",
              "      <script>\n",
              "        async function quickchart(key) {\n",
              "          const quickchartButtonEl =\n",
              "            document.querySelector('#' + key + ' button');\n",
              "          quickchartButtonEl.disabled = true;  // To prevent multiple clicks.\n",
              "          quickchartButtonEl.classList.add('colab-df-spinner');\n",
              "          try {\n",
              "            const charts = await google.colab.kernel.invokeFunction(\n",
              "                'suggestCharts', [key], {});\n",
              "          } catch (error) {\n",
              "            console.error('Error during call to suggestCharts:', error);\n",
              "          }\n",
              "          quickchartButtonEl.classList.remove('colab-df-spinner');\n",
              "          quickchartButtonEl.classList.add('colab-df-quickchart-complete');\n",
              "        }\n",
              "        (() => {\n",
              "          let quickchartButtonEl =\n",
              "            document.querySelector('#df-59a2acd7-f376-4a57-81cd-a37f0db868fd button');\n",
              "          quickchartButtonEl.style.display =\n",
              "            google.colab.kernel.accessAllowed ? 'block' : 'none';\n",
              "        })();\n",
              "      </script>\n",
              "    </div>\n",
              "\n",
              "    </div>\n",
              "  </div>\n"
            ],
            "application/vnd.google.colaboratory.intrinsic+json": {
              "type": "dataframe",
              "variable_name": "chipo",
              "summary": "{\n  \"name\": \"chipo\",\n  \"rows\": 4622,\n  \"fields\": [\n    {\n      \"column\": \"order_id\",\n      \"properties\": {\n        \"dtype\": \"number\",\n        \"std\": 528,\n        \"min\": 1,\n        \"max\": 1834,\n        \"num_unique_values\": 1834,\n        \"samples\": [\n          644,\n          333,\n          991\n        ],\n        \"semantic_type\": \"\",\n        \"description\": \"\"\n      }\n    },\n    {\n      \"column\": \"quantity\",\n      \"properties\": {\n        \"dtype\": \"number\",\n        \"std\": 0,\n        \"min\": 1,\n        \"max\": 15,\n        \"num_unique_values\": 9,\n        \"samples\": [\n          8,\n          2,\n          15\n        ],\n        \"semantic_type\": \"\",\n        \"description\": \"\"\n      }\n    },\n    {\n      \"column\": \"item_name\",\n      \"properties\": {\n        \"dtype\": \"category\",\n        \"num_unique_values\": 50,\n        \"samples\": [\n          \"Barbacoa Burrito\",\n          \"Crispy Tacos\",\n          \"Chips and Roasted Chili Corn Salsa\"\n        ],\n        \"semantic_type\": \"\",\n        \"description\": \"\"\n      }\n    },\n    {\n      \"column\": \"choice_description\",\n      \"properties\": {\n        \"dtype\": \"category\",\n        \"num_unique_values\": 1043,\n        \"samples\": [\n          \"[Roasted Chili Corn Salsa, [Black Beans, Sour Cream, Cheese, Guacamole]]\",\n          \"[Tomatillo Red Chili Salsa, [Guacamole, Cheese]]\",\n          \"[Fresh Tomato Salsa, [Rice, Cheese, Sour Cream, Guacamole, Lettuce]]\"\n        ],\n        \"semantic_type\": \"\",\n        \"description\": \"\"\n      }\n    },\n    {\n      \"column\": \"item_price\",\n      \"properties\": {\n        \"dtype\": \"category\",\n        \"num_unique_values\": 78,\n        \"samples\": [\n          \"$23.50 \",\n          \"$2.39 \",\n          \"$7.40 \"\n        ],\n        \"semantic_type\": \"\",\n        \"description\": \"\"\n      }\n    }\n  ]\n}"
            }
          },
          "metadata": {},
          "execution_count": 4
        }
      ],
      "source": [
        "chipo.head(10)"
      ]
    },
    {
      "cell_type": "markdown",
      "metadata": {
        "id": "nSzxtJVXNEzw"
      },
      "source": [
        "### Step 5. What is the number of observations in the dataset?"
      ]
    },
    {
      "cell_type": "code",
      "execution_count": 5,
      "metadata": {
        "colab": {
          "base_uri": "https://localhost:8080/"
        },
        "id": "jOJoSkXvNEzw",
        "outputId": "f8cbadc3-0875-4a87-f35f-c433017fa189"
      },
      "outputs": [
        {
          "output_type": "execute_result",
          "data": {
            "text/plain": [
              "4622"
            ]
          },
          "metadata": {},
          "execution_count": 5
        }
      ],
      "source": [
        "# Solution 1\n",
        "chipo.shape[0]\n"
      ]
    },
    {
      "cell_type": "code",
      "execution_count": 21,
      "metadata": {
        "colab": {
          "base_uri": "https://localhost:8080/"
        },
        "id": "g6QkRN6XNEzw",
        "outputId": "da99deea-e2bf-40eb-aa99-6502b1155c02"
      },
      "outputs": [
        {
          "output_type": "stream",
          "name": "stdout",
          "text": [
            "<class 'pandas.core.frame.DataFrame'>\n",
            "RangeIndex: 4622 entries, 0 to 4621\n",
            "Data columns (total 5 columns):\n",
            " #   Column              Non-Null Count  Dtype \n",
            "---  ------              --------------  ----- \n",
            " 0   order_id            4622 non-null   int64 \n",
            " 1   quantity            4622 non-null   int64 \n",
            " 2   item_name           4622 non-null   object\n",
            " 3   choice_description  3376 non-null   object\n",
            " 4   item_price          4622 non-null   object\n",
            "dtypes: int64(2), object(3)\n",
            "memory usage: 180.7+ KB\n"
          ]
        }
      ],
      "source": [
        "# Solution 2\n",
        "chipo.info()"
      ]
    },
    {
      "cell_type": "markdown",
      "metadata": {
        "id": "8xif1wWANEzw"
      },
      "source": [
        "### Step 6. What is the number of columns in the dataset?"
      ]
    },
    {
      "cell_type": "code",
      "execution_count": 10,
      "metadata": {
        "colab": {
          "base_uri": "https://localhost:8080/"
        },
        "id": "7MezJtoCNEzw",
        "outputId": "3a5a3609-3651-4768-af69-e7ae7af3b0a7"
      },
      "outputs": [
        {
          "output_type": "execute_result",
          "data": {
            "text/plain": [
              "5"
            ]
          },
          "metadata": {},
          "execution_count": 10
        }
      ],
      "source": [
        "len(chipo.columns)"
      ]
    },
    {
      "cell_type": "markdown",
      "metadata": {
        "id": "4ZQOcserNEzw"
      },
      "source": [
        "### Step 7. Print the name of all the columns."
      ]
    },
    {
      "cell_type": "code",
      "execution_count": 25,
      "metadata": {
        "colab": {
          "base_uri": "https://localhost:8080/"
        },
        "id": "NpH272KKNEzw",
        "outputId": "dd2b8f14-9cab-48ed-8608-be697f758ed1"
      },
      "outputs": [
        {
          "output_type": "execute_result",
          "data": {
            "text/plain": [
              "Index(['order_id', 'quantity', 'item_name', 'choice_description',\n",
              "       'item_price'],\n",
              "      dtype='object')"
            ]
          },
          "metadata": {},
          "execution_count": 25
        }
      ],
      "source": [
        "chipo.columns"
      ]
    },
    {
      "cell_type": "markdown",
      "metadata": {
        "id": "dnRw3jR8NEzx"
      },
      "source": [
        "### Step 8. How is the dataset indexed?"
      ]
    },
    {
      "cell_type": "code",
      "execution_count": 26,
      "metadata": {
        "colab": {
          "base_uri": "https://localhost:8080/"
        },
        "id": "0l9uMNBSNEzx",
        "outputId": "d42366ba-acc5-4c5e-8fa0-ce8b28ee6120"
      },
      "outputs": [
        {
          "output_type": "execute_result",
          "data": {
            "text/plain": [
              "RangeIndex(start=0, stop=4622, step=1)"
            ]
          },
          "metadata": {},
          "execution_count": 26
        }
      ],
      "source": [
        "chipo.index"
      ]
    },
    {
      "cell_type": "markdown",
      "metadata": {
        "id": "0nJvrTBsNEzx"
      },
      "source": [
        "### Step 9. Which was the most-ordered item?"
      ]
    },
    {
      "cell_type": "code",
      "execution_count": 60,
      "metadata": {
        "colab": {
          "base_uri": "https://localhost:8080/",
          "height": 112
        },
        "id": "uYQEoqzHNEzx",
        "outputId": "b9d869f3-0024-4879-b68b-0426c54b5c7a"
      },
      "outputs": [
        {
          "output_type": "execute_result",
          "data": {
            "text/plain": [
              "              order_id  quantity  \\\n",
              "item_name                          \n",
              "Chicken Bowl    713926       761   \n",
              "\n",
              "                                             choice_description  \\\n",
              "item_name                                                         \n",
              "Chicken Bowl  [Tomatillo-Red Chili Salsa (Hot), [Black Beans...   \n",
              "\n",
              "                                                     item_price  \n",
              "item_name                                                        \n",
              "Chicken Bowl  $16.98 $10.98 $11.25 $8.75 $8.49 $11.25 $8.75 ...  "
            ],
            "text/html": [
              "\n",
              "  <div id=\"df-84107630-e1fd-4c04-8886-2f4aa584e195\" class=\"colab-df-container\">\n",
              "    <div>\n",
              "<style scoped>\n",
              "    .dataframe tbody tr th:only-of-type {\n",
              "        vertical-align: middle;\n",
              "    }\n",
              "\n",
              "    .dataframe tbody tr th {\n",
              "        vertical-align: top;\n",
              "    }\n",
              "\n",
              "    .dataframe thead th {\n",
              "        text-align: right;\n",
              "    }\n",
              "</style>\n",
              "<table border=\"1\" class=\"dataframe\">\n",
              "  <thead>\n",
              "    <tr style=\"text-align: right;\">\n",
              "      <th></th>\n",
              "      <th>order_id</th>\n",
              "      <th>quantity</th>\n",
              "      <th>choice_description</th>\n",
              "      <th>item_price</th>\n",
              "    </tr>\n",
              "    <tr>\n",
              "      <th>item_name</th>\n",
              "      <th></th>\n",
              "      <th></th>\n",
              "      <th></th>\n",
              "      <th></th>\n",
              "    </tr>\n",
              "  </thead>\n",
              "  <tbody>\n",
              "    <tr>\n",
              "      <th>Chicken Bowl</th>\n",
              "      <td>713926</td>\n",
              "      <td>761</td>\n",
              "      <td>[Tomatillo-Red Chili Salsa (Hot), [Black Beans...</td>\n",
              "      <td>$16.98 $10.98 $11.25 $8.75 $8.49 $11.25 $8.75 ...</td>\n",
              "    </tr>\n",
              "  </tbody>\n",
              "</table>\n",
              "</div>\n",
              "    <div class=\"colab-df-buttons\">\n",
              "\n",
              "  <div class=\"colab-df-container\">\n",
              "    <button class=\"colab-df-convert\" onclick=\"convertToInteractive('df-84107630-e1fd-4c04-8886-2f4aa584e195')\"\n",
              "            title=\"Convert this dataframe to an interactive table.\"\n",
              "            style=\"display:none;\">\n",
              "\n",
              "  <svg xmlns=\"http://www.w3.org/2000/svg\" height=\"24px\" viewBox=\"0 -960 960 960\">\n",
              "    <path d=\"M120-120v-720h720v720H120Zm60-500h600v-160H180v160Zm220 220h160v-160H400v160Zm0 220h160v-160H400v160ZM180-400h160v-160H180v160Zm440 0h160v-160H620v160ZM180-180h160v-160H180v160Zm440 0h160v-160H620v160Z\"/>\n",
              "  </svg>\n",
              "    </button>\n",
              "\n",
              "  <style>\n",
              "    .colab-df-container {\n",
              "      display:flex;\n",
              "      gap: 12px;\n",
              "    }\n",
              "\n",
              "    .colab-df-convert {\n",
              "      background-color: #E8F0FE;\n",
              "      border: none;\n",
              "      border-radius: 50%;\n",
              "      cursor: pointer;\n",
              "      display: none;\n",
              "      fill: #1967D2;\n",
              "      height: 32px;\n",
              "      padding: 0 0 0 0;\n",
              "      width: 32px;\n",
              "    }\n",
              "\n",
              "    .colab-df-convert:hover {\n",
              "      background-color: #E2EBFA;\n",
              "      box-shadow: 0px 1px 2px rgba(60, 64, 67, 0.3), 0px 1px 3px 1px rgba(60, 64, 67, 0.15);\n",
              "      fill: #174EA6;\n",
              "    }\n",
              "\n",
              "    .colab-df-buttons div {\n",
              "      margin-bottom: 4px;\n",
              "    }\n",
              "\n",
              "    [theme=dark] .colab-df-convert {\n",
              "      background-color: #3B4455;\n",
              "      fill: #D2E3FC;\n",
              "    }\n",
              "\n",
              "    [theme=dark] .colab-df-convert:hover {\n",
              "      background-color: #434B5C;\n",
              "      box-shadow: 0px 1px 3px 1px rgba(0, 0, 0, 0.15);\n",
              "      filter: drop-shadow(0px 1px 2px rgba(0, 0, 0, 0.3));\n",
              "      fill: #FFFFFF;\n",
              "    }\n",
              "  </style>\n",
              "\n",
              "    <script>\n",
              "      const buttonEl =\n",
              "        document.querySelector('#df-84107630-e1fd-4c04-8886-2f4aa584e195 button.colab-df-convert');\n",
              "      buttonEl.style.display =\n",
              "        google.colab.kernel.accessAllowed ? 'block' : 'none';\n",
              "\n",
              "      async function convertToInteractive(key) {\n",
              "        const element = document.querySelector('#df-84107630-e1fd-4c04-8886-2f4aa584e195');\n",
              "        const dataTable =\n",
              "          await google.colab.kernel.invokeFunction('convertToInteractive',\n",
              "                                                    [key], {});\n",
              "        if (!dataTable) return;\n",
              "\n",
              "        const docLinkHtml = 'Like what you see? Visit the ' +\n",
              "          '<a target=\"_blank\" href=https://colab.research.google.com/notebooks/data_table.ipynb>data table notebook</a>'\n",
              "          + ' to learn more about interactive tables.';\n",
              "        element.innerHTML = '';\n",
              "        dataTable['output_type'] = 'display_data';\n",
              "        await google.colab.output.renderOutput(dataTable, element);\n",
              "        const docLink = document.createElement('div');\n",
              "        docLink.innerHTML = docLinkHtml;\n",
              "        element.appendChild(docLink);\n",
              "      }\n",
              "    </script>\n",
              "  </div>\n",
              "\n",
              "\n",
              "    </div>\n",
              "  </div>\n"
            ],
            "application/vnd.google.colaboratory.intrinsic+json": {
              "type": "dataframe",
              "summary": "{\n  \"name\": \"chipo\",\n  \"rows\": 1,\n  \"fields\": [\n    {\n      \"column\": \"item_name\",\n      \"properties\": {\n        \"dtype\": \"string\",\n        \"num_unique_values\": 1,\n        \"samples\": [\n          \"Chicken Bowl\"\n        ],\n        \"semantic_type\": \"\",\n        \"description\": \"\"\n      }\n    },\n    {\n      \"column\": \"order_id\",\n      \"properties\": {\n        \"dtype\": \"number\",\n        \"std\": null,\n        \"min\": 713926,\n        \"max\": 713926,\n        \"num_unique_values\": 1,\n        \"samples\": [\n          713926\n        ],\n        \"semantic_type\": \"\",\n        \"description\": \"\"\n      }\n    },\n    {\n      \"column\": \"quantity\",\n      \"properties\": {\n        \"dtype\": \"number\",\n        \"std\": null,\n        \"min\": 761,\n        \"max\": 761,\n        \"num_unique_values\": 1,\n        \"samples\": [\n          761\n        ],\n        \"semantic_type\": \"\",\n        \"description\": \"\"\n      }\n    },\n    {\n      \"column\": \"choice_description\",\n      \"properties\": {\n        \"dtype\": \"string\",\n        \"num_unique_values\": 1,\n        \"samples\": [\n          \"[Tomatillo-Red Chili Salsa (Hot), [Black Beans, Rice, Cheese, Sour Cream]][Fresh Tomato Salsa (Mild), [Rice, Cheese, Sour Cream, Guacamole, Lettuce]][Fresh Tomato Salsa, [Fajita Vegetables, Rice, Cheese, Sour Cream, Guacamole]][Tomatillo Red Chili Salsa, [Fajita Vegetables, Black Beans, Sour Cream, Cheese, Lettuce]][Roasted Chili Corn Salsa (Medium), [Pinto Beans, Rice, Fajita Veggies, Cheese, Sour Cream, Lettuce]][Roasted Chili Corn Salsa, [Rice, Black Beans, Cheese, Sour Cream, Guacamole, Lettuce]][Fresh Tomato Salsa, [Rice, Black Beans, Pinto Beans, Cheese, Lettuce]][Fresh Tomato Salsa, [Rice, Black Beans, Cheese, Sour Cream, Lettuce]][Tomatillo Red Chili Salsa, [Rice, Fajita Vegetables, Sour Cream, Lettuce]][Tomatillo Red Chili Salsa, [Rice, Black Beans, Cheese, Sour Cream, Lettuce]][Fresh Tomato Salsa, [Guacamole, Cheese, Sour Cream, Fajita Vegetables, Rice]][Fresh Tomato Salsa, [Rice, Fajita Vegetables, Sour Cream, Cheese, Guacamole]][Tomatillo Green Chili Salsa, [Rice, Sour Cream, Cheese, Guacamole]][Fresh Tomato Salsa, [Fajita Vegetables, Rice, Black Beans, Cheese, Guacamole, Lettuce]][Fresh Tomato Salsa, [Fajita Vegetables, Rice, Lettuce]][Fresh Tomato Salsa (Mild), [Black Beans, Rice, Fajita Veggies, Cheese, Sour Cream, Lettuce]][Roasted Chili Corn Salsa (Medium), [Black Beans, Rice, Fajita Veggies, Cheese, Sour Cream, Guacamole, Lettuce]][Fresh Tomato Salsa, [Rice, Black Beans, Sour Cream]][Fresh Tomato Salsa, [Rice, Cheese, Sour Cream]][[Roasted Chili Corn Salsa (Medium), Tomatillo-Red Chili Salsa (Hot)], [Black Beans, Rice, Fajita Veggies, Guacamole, Lettuce]][Fresh Tomato Salsa, [Rice, Cheese, Lettuce]][Roasted Chili Corn Salsa, [Fajita Vegetables, Rice, Black Beans, Cheese, Sour Cream, Guacamole, Lettuce]][Roasted Chili Corn Salsa, [Fajita Vegetables, Rice, Black Beans, Pinto Beans, Cheese, Sour Cream, Guacamole, Lettuce]][Tomatillo Green Chili Salsa, [Rice, Black Beans, Cheese, Sour Cream]][Roasted Chili Corn Salsa, [Rice, Black Beans, Cheese, Sour Cream]][Tomatillo Green Chili Salsa, [Rice, Pinto Beans, Sour Cream, Lettuce]][Fresh Tomato Salsa, [Fajita Vegetables, Rice, Black Beans, Cheese, Sour Cream, Lettuce]][Tomatillo Red Chili Salsa, [Rice, Cheese, Lettuce]][Fresh Tomato Salsa, [Rice, Black Beans, Cheese]][Fresh Tomato Salsa, [Rice, Black Beans, Cheese, Sour Cream]][Fresh Tomato Salsa, [Rice, Cheese, Sour Cream]][Roasted Chili Corn Salsa, [Fajita Vegetables, Rice, Black Beans, Guacamole, Lettuce]][Tomatillo Green Chili Salsa, [Rice, Sour Cream, Guacamole, Lettuce]][Fresh Tomato Salsa (Mild), [Rice, Fajita Veggies, Cheese, Sour Cream, Lettuce]][Fresh Tomato Salsa, [Rice, Black Beans, Cheese, Sour Cream, Guacamole, Lettuce]][Fresh Tomato Salsa, [Rice, Black Beans, Cheese, Sour Cream, Lettuce]][Fresh Tomato Salsa, [Rice, Black Beans, Cheese, Sour Cream]][Fresh Tomato Salsa, [Fajita Vegetables, Rice, Black Beans, Sour Cream]][Tomatillo Red Chili Salsa, [Rice, Cheese]][Tomatillo-Red Chili Salsa (Hot), [Rice, Fajita Veggies, Cheese, Sour Cream, Lettuce]][Fresh Tomato Salsa, [Rice, Cheese, Sour Cream]][Fresh Tomato Salsa, [Rice, Black Beans, Cheese, Sour Cream, Guacamole]][Tomatillo Red Chili Salsa, [Rice, Black Beans, Cheese, Sour Cream, Guacamole, Lettuce]][[Fresh Tomato Salsa (Mild), Tomatillo-Green Chili Salsa (Medium), Roasted Chili Corn Salsa (Medium)], [Black Beans, Rice, Fajita Veggies, Cheese, Guacamole, Lettuce]][Tomatillo Green Chili Salsa, [Sour Cream, Cheese, Guacamole]][Tomatillo Red Chili Salsa][Roasted Chili Corn Salsa, [Rice, Lettuce]][Fresh Tomato Salsa, [Rice, Black Beans, Cheese, Lettuce]][Fresh Tomato Salsa, [Rice, Black Beans, Cheese, Sour Cream, Guacamole, Lettuce]][Fresh Tomato Salsa, [Rice, Black Beans, Cheese]][Fresh Tomato Salsa (Mild), [Black Beans, Rice, Fajita Veggies, Cheese, Sour Cream, Lettuce]][Tomatillo Green Chili Salsa, [Rice, Black Beans, Cheese]][Roasted Chili Corn Salsa, [Rice, Fajita Vegetables, Black Beans, Sour Cream, Cheese, Lettuce]][Fresh Tomato Salsa, [Fajita Vegetables, Rice, Black Beans, Cheese]][Fresh Tomato Salsa, [Rice, Black Beans, Cheese, Sour Cream, Guacamole, Lettuce]][Fresh Tomato Salsa, [Fajita Vegetables, Rice, Black Beans, Cheese]][Fresh Tomato Salsa, [Rice, Black Beans, Cheese, Sour Cream, Lettuce]][Fresh Tomato Salsa, [Fajita Vegetables, Rice, Cheese, Sour Cream, Guacamole]][Roasted Chili Corn Salsa, [Fajita Vegetables, Rice, Black Beans, Guacamole]][Tomatillo-Red Chili Salsa (Hot), Rice][Fresh Tomato Salsa, [Rice, Black Beans, Sour Cream, Cheese]][Fresh Tomato Salsa, [Rice, Cheese, Lettuce]][Tomatillo Green Chili Salsa, [Rice, Black Beans, Cheese]][Roasted Chili Corn Salsa, [Rice, Pinto Beans, Lettuce, Guacamole]][Roasted Chili Corn Salsa (Medium), [Black Beans, Fajita Veggies, Cheese, Guacamole, Lettuce]][Fresh Tomato Salsa, [Rice, Cheese, Lettuce]][Roasted Chili Corn Salsa, [Rice, Black Beans, Cheese, Sour Cream, Guacamole, Lettuce]][Fresh Tomato Salsa (Mild), [Rice, Cheese, Sour Cream, Lettuce]][Fresh Tomato Salsa, [Rice, Pinto Beans, Sour Cream, Cheese, Lettuce]][Tomatillo Green Chili Salsa, [Rice, Black Beans, Sour Cream, Lettuce]][Roasted Chili Corn Salsa, [Rice, Cheese, Lettuce]][Fresh Tomato Salsa, [Rice, Pinto Beans, Cheese, Sour Cream, Lettuce]][Tomatillo-Red Chili Salsa (Hot), [Black Beans, Rice, Fajita Veggies, Cheese, Lettuce]][Fresh Tomato Salsa, [Fajita Vegetables, Rice, Lettuce]][Tomatillo-Red Chili Salsa (Hot), [Black Beans, Rice, Cheese, Sour Cream, Lettuce]][Fresh Tomato Salsa, [Rice, Black Beans, Cheese, Sour Cream, Guacamole, Lettuce]][Fresh Tomato Salsa, [Fajita Vegetables, Rice, Cheese, Sour Cream, Guacamole]][Tomatillo Green Chili Salsa, [Rice, Sour Cream, Cheese, Guacamole]][Tomatillo Green Chili Salsa, [Fajita Vegetables, Rice, Black Beans, Cheese, Sour Cream, Guacamole, Lettuce]][Roasted Chili Corn Salsa, [Rice, Black Beans, Cheese, Sour Cream, Lettuce]][Fresh Tomato Salsa, [Rice, Black Beans, Sour Cream, Cheese]][Roasted Chili Corn Salsa, [Fajita Vegetables, Rice, Black Beans, Cheese, Sour Cream, Guacamole, Lettuce]][Tomatillo-Green Chili Salsa (Medium), Black Beans][Tomatillo-Green Chili Salsa (Medium), Black Beans][Fresh Tomato Salsa, [Rice, Black Beans, Cheese, Sour Cream, Lettuce]][Roasted Chili Corn Salsa, [Fajita Vegetables, Rice, Black Beans, Cheese, Lettuce]][Tomatillo Red Chili Salsa, [Fajita Vegetables, Rice, Black Beans, Cheese, Sour Cream, Lettuce]][[Fresh Tomato Salsa (Mild), Roasted Chili Corn Salsa (Medium)], [Rice, Sour Cream, Guacamole, Lettuce]][Tomatillo Red Chili Salsa, [Rice, Fajita Vegetables, Black Beans, Sour Cream, Cheese]][Tomatillo Red Chili Salsa, [Rice, Cheese, Sour Cream, Lettuce]][[Roasted Chili Corn Salsa (Medium), Fresh Tomato Salsa (Mild)], [Rice, Black Beans, Fajita Veggies, Cheese, Sour Cream, Guacamole]][Tomatillo Red Chili Salsa, [Rice, Black Beans, Cheese, Sour Cream, Lettuce]][Fresh Tomato Salsa, [Rice, Guacamole]][Fresh Tomato Salsa, [Rice, Black Beans, Cheese, Sour Cream, Guacamole]][Tomatillo Green Chili Salsa, [Rice, Pinto Beans, Sour Cream, Lettuce]][Tomatillo Red Chili Salsa, [Rice, Sour Cream, Cheese, Guacamole]][Roasted Chili Corn Salsa, [Fajita Vegetables, Pinto Beans, Sour Cream, Guacamole]][Tomatillo Green Chili Salsa, [Rice, Cheese, Sour Cream, Lettuce]][Tomatillo-Red Chili Salsa (Hot), [Pinto Beans, Rice, Fajita Veggies, Cheese, Sour Cream, Lettuce]][Fresh Tomato Salsa (Mild), [Rice, Fajita Veggies, Sour Cream, Guacamole]][Fresh Tomato Salsa, [Rice, Cheese, Sour Cream]][Roasted Chili Corn Salsa, [Fajita Vegetables, Rice, Cheese, Sour Cream, Guacamole, Lettuce]][Roasted Chili Corn Salsa, [Rice, Cheese, Sour Cream, Lettuce]][Tomatillo Green Chili Salsa, [Rice, Cheese, Sour Cream, Lettuce]][Fresh Tomato Salsa, [Rice, Black Beans, Cheese, Sour Cream]][Fresh Tomato Salsa, [Fajita Vegetables, Rice, Cheese, Sour Cream, Lettuce]][Fresh Tomato Salsa (Mild), [Pinto Beans, Rice, Cheese, Sour Cream, Lettuce]][Tomatillo-Red Chili Salsa (Hot), [Rice, Fajita Veggies, Cheese, Sour Cream, Lettuce]][Fresh Tomato Salsa, [Fajita Vegetables, Rice, Black Beans, Sour Cream]][Roasted Chili Corn Salsa, [Fajita Vegetables, Rice, Black Beans, Cheese, Sour Cream]][Tomatillo Red Chili Salsa, [Rice, Black Beans, Cheese, Lettuce, Guacamole]][Fresh Tomato Salsa, [Fajita Vegetables, Rice, Lettuce]][Fresh Tomato Salsa, [Rice, Black Beans, Cheese, Lettuce]][Fresh Tomato Salsa, [Fajita Vegetables, Rice, Black Beans, Cheese, Sour Cream, Lettuce]][Tomatillo Green Chili Salsa, [Fajita Vegetables, Rice, Black Beans, Cheese, Sour Cream, Lettuce]][Tomatillo Green Chili Salsa, [Rice, Sour Cream, Cheese, Guacamole]][Fresh Tomato Salsa, [Rice, Fajita Vegetables, Pinto Beans, Sour Cream, Cheese, Lettuce, Guacamole]][[Fresh Tomato Salsa (Mild), Tomatillo-Red Chili Salsa (Hot)], [Black Beans, Rice, Cheese, Sour Cream]][Roasted Chili Corn Salsa (Medium), [Black Beans, Rice, Sour Cream, Guacamole]][Roasted Chili Corn Salsa (Medium), [Rice, Cheese]][Roasted Chili Corn Salsa (Medium), [Black Beans, Rice, Cheese, Sour Cream, Lettuce]][Fresh Tomato Salsa, [Rice, Sour Cream, Cheese, Lettuce]][Fresh Tomato Salsa][Fresh Tomato Salsa, [Rice, Cheese, Black Beans]][Fresh Tomato Salsa, [Rice, Cheese, Sour Cream, Lettuce]][Fresh Tomato Salsa, [Rice, Cheese, Sour Cream, Lettuce]][Fresh Tomato Salsa, [Fajita Vegetables, Rice]][[Fresh Tomato Salsa (Mild), Tomatillo-Red Chili Salsa (Hot)], [Black Beans, Rice, Cheese, Sour Cream]][Fresh Tomato Salsa, [Fajita Vegetables, Rice]][[Tomatillo-Green Chili Salsa (Medium), Roasted Chili Corn Salsa (Medium)], [Black Beans, Rice, Cheese, Sour Cream, Lettuce]][Fresh Tomato Salsa, [Fajita Vegetables, Rice, Black Beans, Cheese, Guacamole, Lettuce]][Tomatillo Green Chili Salsa, [Fajita Vegetables, Rice, Cheese, Lettuce]][Fresh Tomato Salsa, [Rice, Fajita Vegetables]][Tomatillo Red Chili Salsa, [Fajita Vegetables, Rice, Black Beans, Cheese, Sour Cream, Guacamole, Lettuce]][Fresh Tomato Salsa, [Fajita Vegetables, Rice, Lettuce]][Fresh Tomato Salsa, [Rice, Black Beans, Cheese]][Fresh Tomato Salsa, [Rice, Cheese, Sour Cream, Lettuce]][Tomatillo Red Chili Salsa, [Rice, Black Beans, Cheese, Sour Cream, Lettuce]][Roasted Chili Corn Salsa, [Rice, Pinto Beans, Cheese, Sour Cream, Guacamole, Lettuce]][Roasted Chili Corn Salsa, [Rice, Cheese, Lettuce]][Fresh Tomato Salsa, [Fajita Vegetables, Rice]][Roasted Chili Corn Salsa, [Fajita Vegetables, Rice, Pinto Beans, Cheese, Sour Cream, Lettuce]][[Roasted Chili Corn Salsa (Medium), Tomatillo-Red Chili Salsa (Hot)], [Pinto Beans, Rice, Fajita Veggies]][Roasted Chili Corn Salsa, [Fajita Vegetables, Rice, Black Beans, Cheese]][Fresh Tomato Salsa, [Fajita Vegetables, Rice, Black Beans, Cheese, Guacamole, Lettuce]][Roasted Chili Corn Salsa, [Rice, Black Beans, Cheese, Guacamole]][Fresh Tomato Salsa, [Rice, Black Beans, Cheese, Sour Cream, Lettuce]][Roasted Chili Corn Salsa, [Rice, Black Beans, Cheese, Sour Cream, Guacamole]][Fresh Tomato Salsa, [Rice, Black Beans, Cheese, Guacamole]][[Fresh Tomato Salsa (Mild), Tomatillo-Red Chili Salsa (Hot)], [Black Beans, Rice, Cheese, Sour Cream, Guacamole]][Tomatillo-Red Chili Salsa (Hot), [Pinto Beans, Rice, Cheese, Sour Cream, Guacamole]][Roasted Chili Corn Salsa, [Rice, Black Beans, Sour Cream, Guacamole]][Tomatillo Green Chili Salsa, [Rice, Cheese, Guacamole, Lettuce]][Fresh Tomato Salsa, [Fajita Vegetables, Rice]][Fresh Tomato Salsa, [Rice, Black Beans]][Fresh Tomato Salsa, [Fajita Vegetables, Rice]][Fresh Tomato Salsa, [Fajita Vegetables, Rice, Cheese, Sour Cream, Guacamole, Lettuce]][Fresh Tomato Salsa (Mild), [Rice, Black Beans, Fajita Veggies, Cheese, Guacamole, Lettuce]][Roasted Chili Corn Salsa, [Rice, Black Beans, Cheese, Sour Cream, Lettuce]][Roasted Chili Corn Salsa, [Fajita Vegetables, Black Beans, Guacamole]][Tomatillo Green Chili Salsa, [Rice, Pinto Beans, Sour Cream, Lettuce]][[Fresh Tomato Salsa (Mild), Tomatillo-Red Chili Salsa (Hot)], [Black Beans, Rice, Cheese, Sour Cream]][Fresh Tomato Salsa (Mild), [Black Beans, Rice, Cheese]][Tomatillo Red Chili Salsa, [Black Beans, Cheese, Sour Cream]][Fresh Tomato Salsa, [Rice, Cheese, Sour Cream, Lettuce]][Fresh Tomato Salsa, [Rice, Fajita Vegetables]][Tomatillo Red Chili Salsa, [Rice, Cheese, Lettuce]][Tomatillo Green Chili Salsa, [Rice, Black Beans, Pinto Beans, Guacamole, Lettuce]][Roasted Chili Corn Salsa, [Rice, Black Beans, Sour Cream]][Tomatillo Red Chili Salsa, [Fajita Vegetables, Rice, Black Beans, Cheese, Sour Cream]][Tomatillo-Green Chili Salsa (Medium), [Fajita Veggies, Cheese, Guacamole, Lettuce]][Roasted Chili Corn Salsa, [Rice, Black Beans, Cheese, Lettuce, Guacamole]][Roasted Chili Corn Salsa (Medium), [Rice, Cheese]][Fresh Tomato Salsa, [Rice, Lettuce]][Roasted Chili Corn Salsa, [Rice, Black Beans, Cheese]][Tomatillo Red Chili Salsa, [Fajita Vegetables, Rice, Cheese, Guacamole]][Fresh Tomato Salsa, [Rice, Sour Cream, Guacamole]][[Fresh Tomato Salsa (Mild), Roasted Chili Corn Salsa (Medium)], [Rice, Fajita Veggies]][Roasted Chili Corn Salsa, [Fajita Vegetables, Rice, Sour Cream, Lettuce]][Fresh Tomato Salsa, [Fajita Vegetables, Rice, Black Beans, Pinto Beans, Cheese, Sour Cream, Guacamole]][[Roasted Chili Corn Salsa (Medium), Tomatillo-Red Chili Salsa (Hot)], [Pinto Beans, Rice, Fajita Veggies, Cheese, Lettuce]][Fresh Tomato Salsa (Mild), [Black Beans, Rice, Sour Cream, Guacamole]][Fresh Tomato Salsa, [Fajita Vegetables, Rice]][Fresh Tomato Salsa, [Rice, Black Beans, Cheese, Sour Cream, Guacamole, Lettuce]][Fresh Tomato Salsa, [Rice, Black Beans, Cheese, Sour Cream, Lettuce]][Fresh Tomato Salsa, [Fajita Vegetables, Pinto Beans, Guacamole, Lettuce]][Fresh Tomato Salsa, [Rice, Cheese, Sour Cream, Lettuce]][Tomatillo Red Chili Salsa, [Fajita Vegetables, Rice, Black Beans, Cheese, Sour Cream]][Fresh Tomato Salsa, [Rice, Black Beans, Cheese]][Fresh Tomato Salsa, [Rice, Black Beans, Cheese, Sour Cream, Lettuce]][Fresh Tomato Salsa, [Sour Cream, Lettuce, Rice, Cheese]][Roasted Chili Corn Salsa, [Rice, Fajita Vegetables, Black Beans, Sour Cream, Cheese, Lettuce]][Roasted Chili Corn Salsa, [Fajita Vegetables, Rice, Black Beans, Pinto Beans, Cheese, Guacamole, Lettuce]][Tomatillo Green Chili Salsa, [Rice, Sour Cream, Cheese, Guacamole]][Fresh Tomato Salsa (Mild), [Black Beans, Rice, Fajita Veggies, Cheese, Sour Cream, Lettuce]][[Fresh Tomato Salsa (Mild), Roasted Chili Corn Salsa (Medium), Tomatillo-Red Chili Salsa (Hot)], [Black Beans, Rice, Fajita Veggies, Cheese, Sour Cream, Lettuce]][Fresh Tomato Salsa (Mild), [Black Beans, Rice, Cheese, Sour Cream, Lettuce]][Fresh Tomato Salsa, [Rice, Cheese, Lettuce]][Fresh Tomato Salsa, [Rice, Cheese, Sour Cream, Lettuce]][Fresh Tomato Salsa, [Fajita Vegetables, Rice, Cheese, Guacamole]][Fresh Tomato Salsa, [Rice, Guacamole, Lettuce]][Roasted Chili Corn Salsa, [Fajita Vegetables, Lettuce, Black Beans]][Roasted Chili Corn Salsa, [Fajita Vegetables, Cheese, Lettuce]][Roasted Chili Corn Salsa, [Rice, Fajita Vegetables, Cheese, Lettuce]][Fresh Tomato Salsa, [Fajita Vegetables, Rice]][Fresh Tomato Salsa, [Fajita Vegetables, Rice, Sour Cream, Lettuce]][Fresh Tomato Salsa, [Fajita Vegetables, Rice, Cheese, Sour Cream, Guacamole, Lettuce]][Fresh Tomato Salsa, [Rice, Fajita Vegetables, Cheese, Lettuce, Guacamole]][Tomatillo Green Chili Salsa, [Rice, Pinto Beans, Sour Cream, Lettuce]][Tomatillo Green Chili Salsa, [Rice, Cheese, Sour Cream, Lettuce]][Fresh Tomato Salsa, [Rice, Cheese, Sour Cream, Guacamole, Lettuce]][Tomatillo Green Chili Salsa, [Fajita Vegetables, Rice, Black Beans]][Tomatillo-Red Chili Salsa (Hot), [Rice, Cheese, Sour Cream, Lettuce]][Tomatillo-Red Chili Salsa (Hot), [Rice, Fajita Veggies, Sour Cream, Lettuce]][Fresh Tomato Salsa, [Rice, Fajita Vegetables, Sour Cream, Cheese, Guacamole]][Tomatillo Red Chili Salsa, [Rice, Black Beans, Cheese, Sour Cream, Lettuce]][[Fresh Tomato Salsa (Mild), Tomatillo-Red Chili Salsa (Hot)], [Black Beans, Rice, Cheese, Sour Cream]][Tomatillo-Red Chili Salsa (Hot), [Black Beans, Rice, Cheese, Lettuce]][Roasted Chili Corn Salsa (Medium), [Rice, Cheese, Lettuce]][Tomatillo-Red Chili Salsa (Hot), [Black Beans, Rice, Cheese, Lettuce]][Tomatillo Red Chili Salsa, [Rice, Pinto Beans, Cheese, Lettuce]][Fresh Tomato Salsa, [Rice, Cheese, Sour Cream, Guacamole]][Roasted Chili Corn Salsa, [Rice, Cheese, Sour Cream, Guacamole]][Fresh Tomato Salsa, [Fajita Vegetables, Rice]][[Fresh Tomato Salsa (Mild), Roasted Chili Corn Salsa (Medium)], [Rice, Fajita Veggies]][Tomatillo Red Chili Salsa, [Rice, Black Beans, Cheese, Sour Cream, Guacamole, Lettuce]][[Fresh Tomato Salsa (Mild), Roasted Chili Corn Salsa (Medium), Tomatillo-Red Chili Salsa (Hot)], [Black Beans, Rice, Cheese, Sour Cream]][Tomatillo-Red Chili Salsa (Hot), [Pinto Beans, Rice, Fajita Veggies, Cheese, Sour Cream]][Fresh Tomato Salsa, [Rice, Black Beans, Cheese, Sour Cream, Guacamole]][Roasted Chili Corn Salsa, [Fajita Vegetables, Rice, Pinto Beans, Cheese, Guacamole, Lettuce]][Fresh Tomato Salsa (Mild), [Pinto Beans, Rice, Fajita Veggies, Cheese, Sour Cream, Guacamole, Lettuce]][Fresh Tomato Salsa, [Sour Cream, Cheese]][Fresh Tomato Salsa, [Rice, Cheese, Lettuce]][Tomatillo-Green Chili Salsa (Medium), [Pinto Beans, Rice, Fajita Veggies, Lettuce]][Fresh Tomato Salsa, [Rice, Black Beans, Cheese]][Roasted Chili Corn Salsa (Medium), [Rice, Fajita Veggies, Cheese]][Fresh Tomato Salsa (Mild), [Black Beans, Rice, Fajita Veggies, Cheese]][[Roasted Chili Corn Salsa (Medium), Tomatillo-Red Chili Salsa (Hot)], [Pinto Beans, Rice, Fajita Veggies, Cheese]][Roasted Chili Corn Salsa, [Rice, Black Beans, Cheese]][Tomatillo-Red Chili Salsa (Hot), [Rice, Cheese, Sour Cream, Lettuce]][[Fresh Tomato Salsa (Mild), Roasted Chili Corn Salsa (Medium)], [Black Beans, Rice, Fajita Veggies, Cheese, Sour Cream, Guacamole, Lettuce]][Roasted Chili Corn Salsa, [Rice, Black Beans, Cheese, Sour Cream, Lettuce]][Fresh Tomato Salsa, [Rice, Fajita Vegetables, Sour Cream, Cheese, Guacamole]][[Fresh Tomato Salsa (Mild), Tomatillo-Red Chili Salsa (Hot)], [Black Beans, Rice, Cheese, Sour Cream]][Tomatillo Red Chili Salsa, [Rice, Black Beans, Cheese, Sour Cream, Lettuce]][[Tomatillo-Green Chili Salsa (Medium), Roasted Chili Corn Salsa (Medium)], [Black Beans, Rice, Fajita Veggies, Cheese, Sour Cream, Lettuce]][Tomatillo Red Chili Salsa, [Rice, Black Beans, Cheese, Lettuce, Guacamole]][[Fresh Tomato Salsa (Mild), Tomatillo-Red Chili Salsa (Hot)], [Black Beans, Rice, Cheese, Sour Cream]][Tomatillo Green Chili Salsa, [Rice, Cheese, Lettuce]][Fresh Tomato Salsa, [Fajita Vegetables, Rice]][Tomatillo-Red Chili Salsa (Hot), [Sour Cream, Cheese, Fajita Veggies, Guacamole, Rice, Pinto Beans]][[Roasted Chili Corn Salsa (Medium), Tomatillo-Red Chili Salsa (Hot), Fresh Tomato Salsa (Mild), Tomatillo-Green Chili Salsa (Medium)], [Rice, Black Beans, Fajita Veggies, Cheese, Sour Cream]][Tomatillo Green Chili Salsa, [Rice, Black Beans, Sour Cream, Cheese]][Roasted Chili Corn Salsa, [Rice, Cheese, Sour Cream, Lettuce]][Fresh Tomato Salsa, [Fajita Vegetables, Rice]][Tomatillo-Red Chili Salsa (Hot), [Black Beans, Rice, Cheese, Lettuce]][Roasted Chili Corn Salsa (Medium), [Rice, Cheese, Lettuce]][Fresh Tomato Salsa, [Rice, Black Beans, Pinto Beans, Guacamole, Lettuce]][Tomatillo Green Chili Salsa, [Rice, Black Beans, Cheese, Sour Cream, Lettuce]][Fresh Tomato Salsa, [Fajita Vegetables, Rice, Guacamole, Lettuce]][Fresh Tomato Salsa, [Rice, Fajita Vegetables]][Fresh Tomato Salsa, [Rice, Black Beans, Cheese]][[Fresh Tomato Salsa (Mild), Tomatillo-Red Chili Salsa (Hot)], [Black Beans, Rice, Cheese, Sour Cream]][Roasted Chili Corn Salsa, [Rice, Black Beans, Cheese, Lettuce]][Tomatillo Red Chili Salsa, [Rice, Black Beans, Sour Cream, Cheese, Lettuce]][Tomatillo Green Chili Salsa, [Rice, Black Beans, Sour Cream, Cheese]][[Fresh Tomato Salsa (Mild), Roasted Chili Corn Salsa (Medium), Tomatillo-Red Chili Salsa (Hot)], [Pinto Beans, Rice, Fajita Veggies, Cheese, Sour Cream, Lettuce]][Fresh Tomato Salsa (Mild), [Rice, Black Beans, Fajita Veggies, Cheese, Guacamole, Lettuce]][Fresh Tomato Salsa, [Rice, Black Beans, Cheese, Sour Cream]][Tomatillo Green Chili Salsa, [Rice, Cheese, Guacamole]][Tomatillo-Green Chili Salsa (Medium), [Black Beans, Rice, Cheese, Sour Cream]][Fresh Tomato Salsa (Mild), [Pinto Beans, Rice, Sour Cream, Guacamole]][Fresh Tomato Salsa (Mild), [Black Beans, Rice, Cheese, Sour Cream, Guacamole, Lettuce]][Tomatillo Red Chili Salsa, [Rice, Black Beans, Sour Cream, Cheese, Lettuce]][Fresh Tomato Salsa (Mild), [Rice, Pinto Beans, Cheese, Guacamole, Lettuce]][Fresh Tomato Salsa, [Rice, Black Beans, Cheese, Guacamole, Lettuce]][Tomatillo Green Chili Salsa, [Rice, Black Beans, Cheese, Guacamole]][Tomatillo Red Chili Salsa, [Fajita Vegetables, Rice, Black Beans, Cheese, Guacamole, Lettuce]][Fresh Tomato Salsa, [Fajita Vegetables, Rice, Pinto Beans, Cheese, Guacamole, Lettuce]][Tomatillo Red Chili Salsa, [Rice, Pinto Beans, Guacamole, Lettuce]][Fresh Tomato Salsa, [Rice, Black Beans, Cheese]][Fresh Tomato Salsa, [Fajita Vegetables, Rice, Sour Cream, Lettuce]][Fresh Tomato Salsa (Mild), [Rice, Black Beans, Fajita Veggies, Cheese, Sour Cream, Lettuce]][Tomatillo Green Chili Salsa, [Rice, Sour Cream, Guacamole]][Tomatillo Red Chili Salsa, [Rice, Black Beans, Sour Cream, Cheese, Lettuce]][Fresh Tomato Salsa, [Rice, Black Beans, Cheese, Guacamole, Lettuce]][Roasted Chili Corn Salsa, [Fajita Vegetables, Rice, Pinto Beans, Cheese, Sour Cream, Guacamole, Lettuce]][Roasted Chili Corn Salsa, [Rice, Pinto Beans, Cheese, Sour Cream, Guacamole, Lettuce]][Roasted Chili Corn Salsa, [Rice, Black Beans, Cheese, Sour Cream, Lettuce]][[Fresh Tomato Salsa (Mild), Tomatillo-Red Chili Salsa (Hot)], [Black Beans, Rice, Cheese, Sour Cream, Guacamole]][[Fresh Tomato Salsa (Mild), Roasted Chili Corn Salsa (Medium)], [Black Beans, Guacamole]][Fresh Tomato Salsa, [Rice, Black Beans, Lettuce]][[Fresh Tomato Salsa (Mild), Roasted Chili Corn Salsa (Medium)], [Rice, Fajita Veggies]][Fresh Tomato Salsa, [Sour Cream, Guacamole, Lettuce]][Fresh Tomato Salsa, Cheese][Tomatillo-Red Chili Salsa (Hot), [Pinto Beans, Cheese, Sour Cream, Rice, Fajita Veggies, Guacamole]][Fresh Tomato Salsa, [Fajita Vegetables, Rice]][Tomatillo Red Chili Salsa, [Rice, Black Beans]][Fresh Tomato Salsa, [Black Beans, Cheese, Sour Cream]][Tomatillo Green Chili Salsa, [Fajita Vegetables, Rice, Cheese, Guacamole, Lettuce]][Fresh Tomato Salsa, [Fajita Vegetables, Rice]][[Fresh Tomato Salsa (Mild), Tomatillo-Red Chili Salsa (Hot)], [Guacamole, Rice, Black Beans, Cheese, Sour Cream]][Roasted Chili Corn Salsa (Medium), [Black Beans, Rice, Cheese, Sour Cream, Lettuce]][Fresh Tomato Salsa, [Fajita Vegetables, Rice, Guacamole, Lettuce]][Fresh Tomato Salsa, [Rice, Black Beans, Cheese]][[Fresh Tomato Salsa (Mild), Roasted Chili Corn Salsa (Medium)], [Black Beans, Cheese, Guacamole]][Fresh Tomato Salsa, [Rice, Black Beans, Lettuce]][Fresh Tomato Salsa, [Rice, Pinto Beans, Sour Cream, Cheese, Lettuce]][Fresh Tomato Salsa, [Rice, Cheese, Lettuce]][Fresh Tomato Salsa, [Fajita Vegetables, Rice, Black Beans, Cheese, Guacamole]][Tomatillo Red Chili Salsa, [Rice, Black Beans, Cheese, Sour Cream]][Fresh Tomato Salsa, [Rice, Black Beans, Sour Cream, Cheese, Guacamole]][Roasted Chili Corn Salsa, [Fajita Vegetables, Rice, Black Beans, Lettuce]][Roasted Chili Corn Salsa, [Fajita Vegetables, Black Beans, Pinto Beans, Cheese, Lettuce]][Tomatillo Red Chili Salsa, [Rice, Black Beans, Sour Cream, Cheese, Lettuce]][Tomatillo Red Chili Salsa, [Rice, Cheese, Sour Cream, Lettuce]][Roasted Chili Corn Salsa, [Rice, Black Beans, Guacamole]][Fresh Tomato Salsa, [Fajita Vegetables, Rice]][Fresh Tomato Salsa, [Rice, Black Beans, Cheese, Sour Cream, Guacamole]][Tomatillo Green Chili Salsa, [Rice, Pinto Beans, Sour Cream, Lettuce]][Fresh Tomato Salsa][Fresh Tomato Salsa, [Fajita Vegetables, Rice, Lettuce]][Roasted Chili Corn Salsa, [Rice, Black Beans, Cheese, Sour Cream, Lettuce]][Fresh Tomato Salsa, [Fajita Vegetables, Rice, Lettuce]][Fresh Tomato Salsa, [Rice, Pinto Beans, Cheese, Sour Cream, Lettuce]][Roasted Chili Corn Salsa, [Cheese, Lettuce, Fajita Vegetables, Rice]][Roasted Chili Corn Salsa, [Fajita Vegetables, Rice, Cheese, Sour Cream, Lettuce]][Roasted Chili Corn Salsa, [Fajita Vegetables, Rice, Cheese, Sour Cream]][Roasted Chili Corn Salsa, [Fajita Vegetables, Rice, Cheese, Sour Cream, Lettuce]][Fresh Tomato Salsa, [Rice, Black Beans, Cheese, Sour Cream, Lettuce]][Fresh Tomato Salsa, [Rice, Lettuce]][Fresh Tomato Salsa, [Rice, Cheese, Sour Cream, Lettuce]][Roasted Chili Corn Salsa, [Fajita Vegetables, Rice, Cheese, Sour Cream, Lettuce]][Roasted Chili Corn Salsa, [Rice, Pinto Beans, Cheese, Sour Cream, Lettuce]][Roasted Chili Corn Salsa, [Rice, Cheese]][Fresh Tomato Salsa, [Rice, Black Beans, Cheese, Sour Cream, Lettuce]][Fresh Tomato Salsa, [Rice, Black Beans, Sour Cream, Guacamole, Lettuce]][Fresh Tomato Salsa, [Rice, Black Beans, Cheese, Sour Cream, Guacamole]][Fresh Tomato Salsa, [Rice, Cheese, Lettuce]][[Fresh Tomato Salsa (Mild), Roasted Chili Corn Salsa (Medium)], [Rice, Fajita Veggies]][Fresh Tomato Salsa, [Rice, Pinto Beans, Cheese, Sour Cream, Lettuce]][Fresh Tomato Salsa, [Fajita Vegetables, Rice, Black Beans, Cheese, Guacamole, Lettuce]][Fresh Tomato Salsa, [Rice, Fajita Vegetables]][Roasted Chili Corn Salsa (Medium), [Black Beans, Rice, Cheese, Guacamole, Lettuce]][Fresh Tomato Salsa, [Rice, Black Beans, Cheese, Sour Cream]][Tomatillo Green Chili Salsa, [Rice, Cheese, Sour Cream, Guacamole]][Tomatillo Green Chili Salsa, [Fajita Vegetables, Rice, Pinto Beans, Cheese, Sour Cream, Lettuce]][Fresh Tomato Salsa (Mild), [Black Beans, Rice, Fajita Veggies, Cheese, Sour Cream, Lettuce]][Fresh Tomato Salsa, [Rice, Black Beans, Cheese, Lettuce]][Fresh Tomato Salsa, [Fajita Vegetables, Rice, Black Beans, Pinto Beans, Cheese, Sour Cream, Guacamole, Lettuce]][Fresh Tomato Salsa, [Rice, Cheese, Sour Cream, Lettuce]][Fresh Tomato Salsa, [Rice, Black Beans, Cheese, Sour Cream, Lettuce]][Roasted Chili Corn Salsa, [Rice, Black Beans, Cheese, Sour Cream, Lettuce]][Tomatillo-Red Chili Salsa (Hot), [Black Beans, Rice, Cheese, Lettuce]][Fresh Tomato Salsa, [Rice, Black Beans, Cheese, Sour Cream, Guacamole, Lettuce]][Fresh Tomato Salsa, [Rice, Black Beans, Cheese, Sour Cream, Guacamole]][[Fresh Tomato Salsa (Mild), Roasted Chili Corn Salsa (Medium)], [Black Beans, Rice, Fajita Veggies, Lettuce]][Fresh Tomato Salsa, [Rice, Pinto Beans, Cheese]][Tomatillo Red Chili Salsa, [Rice, Black Beans, Sour Cream, Cheese, Lettuce]][Tomatillo Red Chili Salsa, [Rice, Black Beans, Sour Cream, Cheese, Lettuce]][Tomatillo Green Chili Salsa, [Rice, Cheese, Sour Cream, Lettuce]][Tomatillo Red Chili Salsa, [Rice, Black Beans, Sour Cream, Guacamole, Lettuce]][Tomatillo Green Chili Salsa, [Rice, Black Beans, Sour Cream, Lettuce]][Roasted Chili Corn Salsa, [Rice, Black Beans, Cheese, Guacamole]][[Fresh Tomato Salsa (Mild), Roasted Chili Corn Salsa (Medium)], [Rice, Cheese, Sour Cream, Guacamole, Lettuce]][Roasted Chili Corn Salsa (Medium), [Pinto Beans, Rice, Cheese, Sour Cream, Lettuce]][Roasted Chili Corn Salsa, [Fajita Vegetables, Rice, Pinto Beans, Cheese, Sour Cream, Lettuce]][Fresh Tomato Salsa, [Fajita Vegetables, Rice, Pinto Beans, Cheese, Sour Cream, Lettuce]][Tomatillo-Red Chili Salsa (Hot), [Black Beans, Cheese, Lettuce]][Fresh Tomato Salsa, [Guacamole, Cheese, Sour Cream, Fajita Vegetables, Rice]][Fresh Tomato Salsa, Cheese][Fresh Tomato Salsa, [Rice, Black Beans, Guacamole, Lettuce]][Roasted Chili Corn Salsa, [Rice, Black Beans, Cheese, Guacamole]][Tomatillo-Red Chili Salsa (Hot), [Rice, Cheese, Sour Cream, Lettuce]][Fresh Tomato Salsa, [Black Beans, Cheese, Guacamole, Lettuce]][Tomatillo-Red Chili Salsa (Hot), [Rice, Fajita Veggies, Pinto Beans, Sour Cream, Cheese, Guacamole]][Fresh Tomato Salsa, [Fajita Vegetables, Rice, Black Beans, Cheese, Sour Cream, Lettuce]][Fresh Tomato Salsa, [Fajita Vegetables, Rice]][Tomatillo-Red Chili Salsa (Hot), [Black Beans, Rice, Cheese, Lettuce]][Tomatillo-Red Chili Salsa (Hot), [Rice, Black Beans, Cheese, Lettuce]][Tomatillo Red Chili Salsa, [Fajita Vegetables, Rice, Black Beans, Cheese, Sour Cream, Guacamole, Lettuce]][Fresh Tomato Salsa, [Fajita Vegetables, Rice, Black Beans, Cheese, Sour Cream, Guacamole, Lettuce]][Fresh Tomato Salsa, [Fajita Vegetables, Rice, Sour Cream, Guacamole]][Fresh Tomato Salsa, [Rice, Black Beans, Cheese]][Tomatillo Red Chili Salsa, [Rice, Fajita Vegetables, Black Beans, Cheese, Lettuce, Guacamole]][[Roasted Chili Corn Salsa (Medium), Fresh Tomato Salsa (Mild)], [Rice, Fajita Veggies]][[Tomatillo-Green Chili Salsa (Medium), Roasted Chili Corn Salsa (Medium)], [Black Beans, Rice, Fajita Veggies, Cheese, Sour Cream, Guacamole]][Fresh Tomato Salsa, [Rice, Cheese, Sour Cream, Lettuce]][Fresh Tomato Salsa, [Rice, Black Beans, Cheese, Sour Cream]][Tomatillo Red Chili Salsa, Fajita Vegetables][Fresh Tomato Salsa, [Fajita Vegetables, Rice, Guacamole, Lettuce]][Fresh Tomato Salsa, [Sour Cream, Fajita Vegetables, Rice, Guacamole, Cheese]][Fresh Tomato Salsa, [Fajita Vegetables, Rice, Black Beans, Cheese, Sour Cream, Guacamole, Lettuce]][Fresh Tomato Salsa (Mild), [Black Beans, Rice, Fajita Veggies, Cheese, Sour Cream, Guacamole, Lettuce]][Fresh Tomato Salsa, [Rice, Black Beans, Sour Cream, Guacamole, Lettuce]][Fresh Tomato Salsa (Mild), [Rice, Fajita Veggies, Cheese, Lettuce]][Tomatillo Red Chili Salsa, Rice][Roasted Chili Corn Salsa, [Rice, Black Beans, Sour Cream, Cheese, Guacamole]][Fresh Tomato Salsa, [Rice, Cheese, Lettuce]][Fresh Tomato Salsa, [Fajita Vegetables, Rice, Cheese, Sour Cream, Guacamole, Lettuce]][Tomatillo Red Chili Salsa, [Fajita Vegetables, Rice, Black Beans, Cheese, Lettuce]][Tomatillo Red Chili Salsa, [Rice, Black Beans, Cheese, Sour Cream, Guacamole, Lettuce]][Fresh Tomato Salsa (Mild), [Rice, Black Beans, Sour Cream, Guacamole]][Roasted Chili Corn Salsa, [Fajita Vegetables, Rice, Pinto Beans, Cheese, Sour Cream, Lettuce]][Fresh Tomato Salsa, [Fajita Vegetables, Rice, Lettuce]][Fresh Tomato Salsa, [Fajita Vegetables, Rice, Sour Cream, Lettuce]][Tomatillo Green Chili Salsa, [Rice, Pinto Beans, Sour Cream, Lettuce]][Tomatillo Red Chili Salsa, [Rice, Black Beans, Sour Cream, Cheese, Lettuce, Guacamole]][Fresh Tomato Salsa, [Rice, Black Beans, Cheese, Guacamole, Lettuce]][Fresh Tomato Salsa, [Rice, Black Beans, Cheese, Guacamole, Lettuce]][Roasted Chili Corn Salsa, [Rice, Pinto Beans, Cheese, Sour Cream, Lettuce]][Fresh Tomato Salsa, [Pinto Beans, Cheese, Guacamole]][Fresh Tomato Salsa, [Rice, Black Beans, Cheese]][Fresh Tomato Salsa, [Rice, Cheese, Sour Cream]][Fresh Tomato Salsa, [Rice, Black Beans, Guacamole, Lettuce]][Fresh Tomato Salsa (Mild), [Pinto Beans, Rice, Cheese, Sour Cream, Guacamole, Lettuce]][[Roasted Chili Corn Salsa (Medium), Fresh Tomato Salsa (Mild)], [Rice, Fajita Veggies]][Fresh Tomato Salsa, [Rice, Fajita Vegetables, Black Beans]][Fresh Tomato Salsa, [Cheese, Guacamole, Sour Cream, Fajita Vegetables, Rice]][Fresh Tomato Salsa, [Rice, Cheese, Lettuce]][Fresh Tomato Salsa, [Rice, Black Beans, Cheese, Sour Cream, Lettuce]][Fresh Tomato Salsa, [Rice, Cheese, Sour Cream, Lettuce]][Roasted Chili Corn Salsa, [Rice, Black Beans, Sour Cream, Cheese, Guacamole]][Tomatillo-Red Chili Salsa (Hot), [Black Beans, Rice, Cheese, Lettuce]][Fresh Tomato Salsa (Mild), [Rice, Cheese, Sour Cream, Guacamole, Lettuce]][Fresh Tomato Salsa, [Fajita Vegetables, Rice, Cheese, Sour Cream, Lettuce]][Tomatillo Green Chili Salsa, [Rice, Pinto Beans, Cheese, Lettuce]][Fresh Tomato Salsa, [Fajita Vegetables, Rice, Sour Cream, Guacamole, Lettuce]][Tomatillo Red Chili Salsa, [Rice, Black Beans, Pinto Beans, Cheese, Sour Cream]][Fresh Tomato Salsa, [Fajita Vegetables, Rice, Cheese, Lettuce]][Fresh Tomato Salsa, [Rice, Cheese, Sour Cream]][Fresh Tomato Salsa, [Fajita Vegetables, Rice, Black Beans, Cheese, Guacamole, Lettuce]][Fresh Tomato Salsa, [Fajita Vegetables, Rice, Pinto Beans, Cheese, Sour Cream, Guacamole, Lettuce]][Fresh Tomato (Mild), [Rice, Sour Cream, Cheese]][Fresh Tomato (Mild), [Guacamole, Rice]][Roasted Chili Corn Salsa, [Rice, Cheese, Sour Cream, Guacamole, Lettuce]][Tomatillo Green Chili Salsa, [Rice, Pinto Beans, Sour Cream, Lettuce]][Tomatillo Red Chili Salsa, [Rice, Black Beans, Cheese, Lettuce]][Tomatillo-Green Chili Salsa (Medium), [Black Beans, Rice, Fajita Veggies, Cheese, Sour Cream, Guacamole, Lettuce]][[Fresh Tomato Salsa (Mild), Tomatillo-Green Chili Salsa (Medium)], [Rice, Fajita Veggies, Cheese, Sour Cream, Lettuce]][Roasted Chili Corn Salsa (Medium), [Rice, Fajita Veggies, Cheese, Sour Cream, Lettuce]][Roasted Chili Corn Salsa, [Fajita Vegetables, Rice, Pinto Beans, Cheese, Lettuce]][Roasted Chili Corn Salsa, [Fajita Vegetables, Rice, Black Beans, Cheese, Guacamole, Lettuce]][Fresh Tomato Salsa, [Rice, Black Beans, Guacamole]][Fresh Tomato Salsa (Mild), [Black Beans, Rice, Cheese]][Tomatillo-Red Chili Salsa (Hot), [Rice, Black Beans, Cheese, Lettuce]][Tomatillo-Red Chili Salsa (Hot), [Rice, Black Beans, Cheese, Lettuce]][Fresh Tomato Salsa, [Rice, Black Beans, Cheese, Sour Cream, Lettuce]][Fresh Tomato Salsa, [Sour Cream, Fajita Vegetables, Rice, Guacamole, Cheese]][Fresh Tomato Salsa, [Rice, Black Beans, Guacamole]][Fresh Tomato Salsa, [Fajita Vegetables, Rice, Black Beans, Cheese, Guacamole, Lettuce]][[Roasted Chili Corn Salsa (Medium), Tomatillo-Red Chili Salsa (Hot), Fresh Tomato Salsa (Mild)], [Rice, Pinto Beans, Fajita Veggies, Cheese, Sour Cream, Lettuce]][Fresh Tomato Salsa, [Sour Cream, Guacamole, Lettuce]][Fresh Tomato Salsa, [Fajita Vegetables, Rice, Cheese, Sour Cream, Guacamole, Lettuce]][Fresh Tomato Salsa, [Fajita Vegetables, Rice, Black Beans, Cheese, Sour Cream, Lettuce]][Tomatillo-Red Chili Salsa (Hot), [Cheese, Lettuce, Rice, Black Beans]][[Fresh Tomato Salsa (Mild), Roasted Chili Corn Salsa (Medium)], [Black Beans, Rice, Fajita Veggies, Cheese, Sour Cream, Lettuce]][Fresh Tomato Salsa, [Rice, Cheese, Lettuce]][Fresh Tomato Salsa, [Fajita Vegetables, Rice, Black Beans, Guacamole, Lettuce]][Fresh Tomato Salsa, [Rice, Pinto Beans, Cheese, Lettuce]][[Tomatillo-Red Chili Salsa (Hot), Tomatillo-Green Chili Salsa (Medium)], [Rice, Black Beans, Lettuce]][Roasted Chili Corn Salsa (Medium), [Rice, Fajita Veggies, Cheese, Sour Cream, Lettuce]][Tomatillo Green Chili Salsa, [Sour Cream, Cheese, Guacamole]][Fresh Tomato Salsa, [Rice, Black Beans, Cheese, Sour Cream, Guacamole, Lettuce]][Fresh Tomato Salsa, [Fajita Vegetables, Rice, Cheese, Sour Cream, Guacamole, Lettuce]][Fresh Tomato Salsa, [Fajita Vegetables, Rice, Black Beans, Guacamole, Lettuce]][Tomatillo Green Chili Salsa, [Rice, Black Beans, Cheese, Sour Cream, Guacamole, Lettuce]][Tomatillo Red Chili Salsa, [Rice, Black Beans, Cheese, Sour Cream, Guacamole, Lettuce]][Fresh Tomato Salsa (Mild), [Black Beans, Rice, Fajita Veggies, Cheese, Sour Cream, Lettuce]][[Roasted Chili Corn Salsa (Medium), Fresh Tomato Salsa (Mild)], [Rice, Fajita Veggies]][[Roasted Chili Corn Salsa (Medium), Fresh Tomato Salsa (Mild)], [Fajita Veggies, Lettuce, Rice, Black Beans]][Tomatillo Red Chili Salsa, [Sour Cream, Cheese, Guacamole, Lettuce, Black Beans, Rice]][Fresh Tomato (Mild), [Lettuce, Fajita Veggies, Black Beans, Rice, Sour Cream, Cheese]][[Fresh Tomato Salsa (Mild), Roasted Chili Corn Salsa (Medium)], [Black Beans, Rice, Cheese, Sour Cream, Lettuce]][Tomatillo Green Chili Salsa, [Rice, Pinto Beans, Sour Cream, Lettuce]][[Fresh Tomato Salsa (Mild), Roasted Chili Corn Salsa (Medium)], [Fajita Veggies, Rice]][Tomatillo-Red Chili Salsa (Hot), [Pinto Beans, Rice, Fajita Veggies, Cheese, Sour Cream, Guacamole]][Fresh Tomato Salsa, [Fajita Vegetables, Rice, Black Beans, Cheese, Sour Cream, Lettuce]][Roasted Chili Corn Salsa, [Rice, Fajita Vegetables, Lettuce, Pinto Beans, Black Beans, Guacamole, Cheese]][Tomatillo Green Chili Salsa, [Rice, Black Beans, Cheese]][Fresh Tomato Salsa (Mild), Lettuce][Fresh Tomato Salsa (Mild), Cheese][Roasted Chili Corn Salsa (Medium), Cheese][Tomatillo Green Chili Salsa, [Rice, Black Beans, Cheese, Lettuce]][Fresh Tomato Salsa, [Fajita Vegetables, Rice, Black Beans, Cheese, Sour Cream, Lettuce]][Fresh Tomato Salsa, [Rice, Cheese, Sour Cream, Guacamole]][Fresh Tomato Salsa, [Rice, Black Beans, Pinto Beans, Cheese, Lettuce]][Fresh Tomato Salsa, [Fajita Vegetables, Rice, Black Beans, Sour Cream, Lettuce]][Fresh Tomato Salsa, [Rice, Black Beans, Cheese, Guacamole, Lettuce]][Fresh Tomato Salsa, [Fajita Vegetables, Rice, Pinto Beans, Cheese, Sour Cream, Guacamole, Lettuce]][Roasted Chili Corn Salsa (Medium), [Rice, Fajita Veggies, Sour Cream]][Fresh Tomato Salsa, [Fajita Vegetables, Rice, Cheese, Sour Cream, Guacamole, Lettuce]][Fresh Tomato Salsa (Mild), [Pinto Beans, Rice, Cheese, Sour Cream]][Fresh Tomato Salsa, [Guacamole, Cheese, Rice, Sour Cream, Fajita Vegetables]][Roasted Chili Corn Salsa, [Rice, Black Beans, Sour Cream, Cheese, Guacamole]][Roasted Chili Corn Salsa, [Rice, Black Beans, Sour Cream, Cheese, Lettuce, Guacamole]][Fresh Tomato Salsa, [Rice, Fajita Vegetables]][Roasted Chili Corn Salsa (Medium), [Black Beans, Rice, Fajita Veggies, Cheese, Sour Cream]][[Tomatillo-Red Chili Salsa (Hot), Tomatillo-Green Chili Salsa (Medium)], [Rice, Black Beans, Cheese, Lettuce]][Roasted Chili Corn Salsa, [Rice, Pinto Beans, Cheese, Sour Cream, Lettuce]][Tomatillo Green Chili Salsa, [Rice, Black Beans, Guacamole, Lettuce]][Fresh Tomato Salsa, [Lettuce, Fajita Vegetables, Guacamole, Rice, Black Beans]][Fresh Tomato Salsa, [Lettuce, Cheese, Pinto Beans, Rice]][Fresh Tomato Salsa, [Rice, Pinto Beans, Sour Cream, Cheese, Lettuce]][Roasted Chili Corn Salsa, [Fajita Vegetables, Rice, Black Beans, Cheese, Sour Cream, Guacamole, Lettuce]][Fresh Tomato Salsa, [Fajita Vegetables, Rice, Black Beans, Cheese, Sour Cream, Guacamole, Lettuce]][Fresh Tomato Salsa, [Rice, Fajita Vegetables]][Fresh Tomato Salsa, [Rice, Cheese, Lettuce]][Fresh Tomato Salsa][Roasted Chili Corn Salsa, [Rice, Black Beans, Sour Cream, Cheese, Guacamole]][Roasted Chili Corn Salsa, [Rice, Pinto Beans, Cheese, Sour Cream, Lettuce]][Fresh Tomato Salsa, [Rice, Cheese, Sour Cream, Lettuce]][Fresh Tomato Salsa, [Rice, Fajita Vegetables]][Roasted Chili Corn Salsa, [Rice, Black Beans, Cheese]][Roasted Chili Corn Salsa, [Fajita Vegetables, Rice]][Tomatillo-Red Chili Salsa (Hot), [Pinto Beans, Rice, Fajita Veggies, Cheese, Sour Cream]][[Fresh Tomato Salsa (Mild), Tomatillo-Green Chili Salsa (Medium)], [Rice, Fajita Veggies, Cheese, Sour Cream, Lettuce]][Roasted Chili Corn Salsa, [Rice, Pinto Beans, Cheese, Sour Cream, Guacamole]][Fresh Tomato Salsa (Mild), [Rice, Black Beans, Fajita Veggies, Cheese, Sour Cream, Lettuce]][Fresh Tomato Salsa, [Fajita Vegetables, Rice, Lettuce]][Fresh Tomato Salsa, [Rice, Black Beans, Cheese, Sour Cream, Guacamole, Lettuce]][Roasted Chili Corn Salsa (Medium), [Pinto Beans, Black Beans, Rice, Cheese, Sour Cream, Guacamole]][Tomatillo-Green Chili Salsa (Medium), [Pinto Beans, Black Beans, Rice, Fajita Veggies, Sour Cream, Lettuce]][Fresh Tomato Salsa, [Fajita Vegetables, Rice, Black Beans, Cheese, Sour Cream, Lettuce]][Fresh Tomato Salsa, [Rice, Cheese, Sour Cream, Lettuce]][[Roasted Chili Corn Salsa (Medium), Tomatillo-Green Chili Salsa (Medium)], [Rice, Fajita Veggies, Cheese, Sour Cream, Lettuce]][Fresh Tomato Salsa, [Cheese, Black Beans, Rice]][Roasted Chili Corn Salsa, [Rice, Black Beans, Sour Cream, Cheese, Guacamole]][Roasted Chili Corn Salsa, [Black Beans, Cheese, Guacamole]][Fresh Tomato Salsa, [Rice, Fajita Vegetables, Sour Cream, Cheese, Guacamole]][Fresh Tomato Salsa, [Rice, Pinto Beans, Cheese, Guacamole, Lettuce]][Fresh Tomato Salsa, [Rice, Cheese]][Tomatillo Green Chili Salsa, [Rice, Cheese]][Roasted Chili Corn Salsa, [Rice, Black Beans, Cheese, Guacamole]][Fresh Tomato Salsa, [Rice, Cheese, Guacamole, Lettuce]][Roasted Chili Corn Salsa, [Rice, Black Beans, Sour Cream, Guacamole]][Fresh Tomato Salsa, [Cheese, Rice, Black Beans]][Fresh Tomato Salsa, [Guacamole, Sour Cream, Cheese, Rice, Fajita Vegetables]][Fresh Tomato Salsa, [Rice, Fajita Vegetables, Black Beans, Sour Cream, Cheese, Lettuce]][Tomatillo Green Chili Salsa, [Rice, Pinto Beans, Sour Cream, Lettuce]][Tomatillo-Red Chili Salsa (Hot), [Black Beans, Rice, Cheese, Lettuce]][Fresh Tomato Salsa (Mild), [Black Beans, Rice, Guacamole, Lettuce]][Tomatillo-Red Chili Salsa (Hot), [Pinto Beans, Rice, Fajita Veggies, Cheese, Sour Cream, Guacamole]][[Roasted Chili Corn Salsa (Medium), Fresh Tomato Salsa (Mild)], [Rice, Black Beans, Fajita Veggies, Guacamole]][[Roasted Chili Corn Salsa (Medium), Tomatillo-Red Chili Salsa (Hot), Fresh Tomato Salsa (Mild)], [Rice, Pinto Beans, Fajita Veggies, Cheese, Sour Cream, Lettuce]][Fresh Tomato Salsa, [Fajita Vegetables, Rice, Pinto Beans, Cheese]][Fresh Tomato Salsa, [Fajita Vegetables, Rice, Black Beans, Cheese, Sour Cream, Guacamole, Lettuce]][Fresh Tomato Salsa, [Fajita Vegetables, Rice, Pinto Beans, Cheese, Sour Cream, Guacamole, Lettuce]][Fresh Tomato Salsa, [Fajita Vegetables, Rice, Black Beans, Cheese, Sour Cream, Lettuce]][Fresh Tomato Salsa, [Rice, Black Beans, Cheese, Sour Cream]][Tomatillo Green Chili Salsa, [Fajita Vegetables, Rice, Black Beans, Cheese, Lettuce]][Fresh Tomato Salsa, [Fajita Vegetables, Rice]][Roasted Chili Corn Salsa (Medium), [Black Beans, Rice, Fajita Veggies, Cheese, Sour Cream]][Fresh Tomato Salsa, [Rice, Cheese, Sour Cream]][[Roasted Chili Corn Salsa (Medium), Tomatillo-Red Chili Salsa (Hot)], [Black Beans, Rice, Fajita Veggies, Guacamole, Lettuce]][Roasted Chili Corn Salsa, [Rice, Pinto Beans, Sour Cream, Cheese, Guacamole]][Fresh Tomato Salsa (Mild), [Black Beans, Rice, Guacamole, Lettuce]][Tomatillo-Red Chili Salsa (Hot), [Cheese, Sour Cream, Fajita Veggies, Pinto Beans, Rice]][Fresh Tomato Salsa (Mild), [Black Beans, Rice, Fajita Veggies, Cheese]][Fresh Tomato Salsa, [Rice, Black Beans, Cheese, Guacamole, Lettuce]][Fresh Tomato Salsa, [Rice, Cheese, Sour Cream, Guacamole, Fajita Vegetables]][Tomatillo Green Chili Salsa, [Rice, Cheese, Guacamole, Lettuce]][Roasted Chili Corn Salsa, [Rice, Black Beans, Sour Cream, Guacamole]][Tomatillo Red Chili Salsa, [Rice, Cheese, Sour Cream, Guacamole]][Fresh Tomato Salsa, [Fajita Vegetables, Rice, Cheese, Sour Cream, Guacamole, Lettuce]][[Roasted Chili Corn Salsa (Medium), Fresh Tomato Salsa (Mild)], [Rice, Fajita Veggies]][Fresh Tomato (Mild), [Lettuce, Fajita Veggies, Pinto Beans, Rice, Sour Cream, Cheese]][Tomatillo-Red Chili Salsa (Hot), [Pinto Beans, Rice, Fajita Veggies, Cheese, Sour Cream, Guacamole]][[Tomatillo-Green Chili Salsa (Medium), Tomatillo-Red Chili Salsa (Hot)], [Pinto Beans, Rice, Fajita Veggies, Cheese, Sour Cream, Guacamole]][Fresh Tomato Salsa, [Fajita Vegetables, Rice, Black Beans, Sour Cream, Guacamole, Lettuce]][Roasted Chili Corn Salsa, [Fajita Vegetables, Rice, Black Beans, Guacamole]][[Roasted Chili Corn Salsa (Medium), Fresh Tomato Salsa (Mild)], [Rice, Black Beans, Fajita Veggies, Guacamole]][[Roasted Chili Corn Salsa (Medium), Tomatillo-Red Chili Salsa (Hot), Fresh Tomato Salsa (Mild)], [Rice, Pinto Beans, Fajita Veggies, Cheese, Sour Cream, Lettuce]][Fresh Tomato Salsa, [Fajita Vegetables, Rice, Cheese, Sour Cream, Lettuce]][Roasted Chili Corn Salsa, [Rice, Black Beans, Cheese, Sour Cream, Lettuce]][Fresh Tomato Salsa, [Rice, Black Beans, Sour Cream]][Roasted Chili Corn Salsa, [Rice, Black Beans, Cheese, Sour Cream, Guacamole, Lettuce]][Tomatillo-Red Chili Salsa (Hot), [Black Beans, Rice, Cheese, Lettuce]][Fresh Tomato Salsa, [Guacamole, Lettuce, Rice, Cheese, Sour Cream, Black Beans]][Fresh Tomato Salsa, [Rice, Fajita Vegetables]][[Fresh Tomato Salsa (Mild), Roasted Chili Corn Salsa (Medium)], [Black Beans, Rice, Cheese, Sour Cream, Lettuce]][Fresh Tomato Salsa, [Rice, Black Beans, Cheese]][[Fresh Tomato Salsa (Mild), Tomatillo-Red Chili Salsa (Hot)], [Black Beans, Rice, Cheese, Sour Cream, Guacamole]][Fresh Tomato Salsa (Mild), [Black Beans, Rice, Fajita Veggies, Guacamole, Lettuce]][Fresh Tomato Salsa, [Rice, Black Beans, Cheese, Sour Cream, Guacamole, Lettuce]][Tomatillo Green Chili Salsa, [Fajita Vegetables, Rice]][Roasted Chili Corn Salsa, [Rice, Black Beans, Sour Cream, Cheese, Guacamole]][Tomatillo Red Chili Salsa, [Rice, Black Beans, Cheese, Sour Cream, Guacamole, Lettuce]][Roasted Chili Corn Salsa, [Rice, Black Beans, Cheese, Sour Cream, Guacamole, Lettuce]][Roasted Chili Corn Salsa (Medium), [Pinto Beans, Black Beans, Rice, Fajita Veggies, Cheese, Lettuce]][Tomatillo-Red Chili Salsa (Hot), [Pinto Beans, Black Beans, Rice, Fajita Veggies, Cheese, Sour Cream, Lettuce]][Fresh Tomato Salsa, [Rice, Pinto Beans, Sour Cream, Cheese, Lettuce]][Fresh Tomato Salsa, [Fajita Vegetables, Rice, Black Beans, Cheese, Guacamole, Lettuce]][Roasted Chili Corn Salsa, [Rice, Black Beans, Cheese, Guacamole, Lettuce]][Tomatillo-Red Chili Salsa (Hot), [Rice, Pinto Beans, Fajita Veggies, Cheese, Sour Cream, Guacamole]][Roasted Chili Corn Salsa, [Rice, Black Beans, Cheese, Sour Cream, Lettuce]][Tomatillo-Red Chili Salsa (Hot), [Pinto Beans, Rice, Cheese, Sour Cream, Lettuce]][Tomatillo Green Chili Salsa, [Rice, Fajita Vegetables, Black Beans, Sour Cream, Cheese, Lettuce]][Fresh Tomato Salsa, [Rice, Cheese, Sour Cream]][Tomatillo Red Chili Salsa, [Rice, Black Beans, Sour Cream, Cheese, Lettuce, Guacamole]][Fresh Tomato Salsa, [Fajita Vegetables, Rice, Pinto Beans, Cheese, Sour Cream, Guacamole, Lettuce]][Fresh Tomato Salsa, Cheese][Fresh Tomato Salsa, [Fajita Vegetables, Rice, Black Beans, Cheese, Sour Cream, Lettuce]][Fresh Tomato Salsa, [Rice, Cheese, Sour Cream]][Tomatillo Red Chili Salsa, [Fajita Vegetables, Rice, Black Beans, Cheese, Sour Cream, Guacamole, Lettuce]][Fresh Tomato Salsa, [Fajita Vegetables, Rice, Black Beans, Cheese, Sour Cream, Guacamole, Lettuce]][[Tomatillo-Green Chili Salsa (Medium), Roasted Chili Corn Salsa (Medium)], [Rice, Fajita Veggies, Guacamole, Lettuce]][Tomatillo Green Chili Salsa, [Rice, Black Beans, Cheese, Sour Cream]][Fresh Tomato Salsa, [Rice, Fajita Vegetables, Pinto Beans, Cheese, Lettuce, Guacamole]][Fresh Tomato Salsa, [Rice, Black Beans, Cheese, Sour Cream]][Fresh Tomato Salsa, [Fajita Vegetables, Rice, Black Beans, Cheese]][Fresh Tomato Salsa, [Rice, Black Beans, Cheese, Lettuce]][Fresh Tomato Salsa, [Rice, Fajita Vegetables, Black Beans, Cheese, Lettuce]][Fresh Tomato Salsa, [Rice, Black Beans, Cheese, Lettuce, Guacamole]][Tomatillo-Red Chili Salsa (Hot), [Black Beans, Rice, Cheese, Lettuce]][Fresh Tomato Salsa, [Fajita Vegetables, Rice]][Fresh Tomato Salsa, [Rice, Cheese, Lettuce]][Fresh Tomato Salsa, [Rice, Black Beans, Fajita Vegetables, Lettuce, Cheese, Sour Cream]][[Roasted Chili Corn Salsa (Medium), Fresh Tomato Salsa (Mild)], [Rice, Fajita Veggies]][Tomatillo Green Chili Salsa, [Rice, Black Beans, Guacamole, Lettuce]][Fresh Tomato Salsa, [Rice, Black Beans, Cheese, Sour Cream]][Fresh Tomato Salsa, [Fajita Vegetables, Rice, Black Beans, Sour Cream, Guacamole, Lettuce]][Fresh Tomato Salsa, [Fajita Vegetables, Rice, Black Beans, Pinto Beans, Cheese, Sour Cream, Guacamole, Lettuce]][Fresh Tomato Salsa, [Fajita Vegetables, Rice, Black Beans, Cheese, Sour Cream, Guacamole, Lettuce]][[Fresh Tomato Salsa (Mild), Tomatillo-Green Chili Salsa (Medium), Roasted Chili Corn Salsa (Medium), Tomatillo-Red Chili Salsa (Hot)], [Black Beans, Rice, Fajita Veggies, Cheese, Sour Cream]][Tomatillo-Green Chili Salsa (Medium), [Rice, Cheese, Sour Cream, Lettuce]][Roasted Chili Corn Salsa, [Rice, Black Beans, Cheese, Sour Cream, Lettuce]][Roasted Chili Corn Salsa, [Rice, Black Beans, Sour Cream, Cheese, Guacamole]][Fresh Tomato Salsa, [Fajita Vegetables, Rice, Pinto Beans, Cheese, Sour Cream, Guacamole, Lettuce]][Tomatillo Green Chili Salsa, [Rice, Fajita Vegetables, Black Beans, Sour Cream, Cheese, Lettuce]][Fresh Tomato Salsa, [Rice, Pinto Beans, Cheese, Lettuce]][Roasted Chili Corn Salsa, [Rice, Black Beans, Guacamole, Lettuce]][Roasted Chili Corn Salsa, [Fajita Vegetables, Rice, Pinto Beans, Cheese, Sour Cream, Lettuce]][Fresh Tomato Salsa, [Rice, Black Beans, Cheese, Sour Cream, Guacamole, Lettuce]][Fresh Tomato Salsa (Mild), [Black Beans, Rice, Cheese]][Roasted Chili Corn Salsa (Medium), [Black Beans, Rice, Fajita Veggies, Cheese, Sour Cream]][Fresh Tomato Salsa (Mild), [Black Beans, Rice, Sour Cream, Guacamole]][[Fresh Tomato Salsa (Mild), Roasted Chili Corn Salsa (Medium)], [Black Beans, Rice, Cheese, Sour Cream, Lettuce]][Roasted Chili Corn Salsa, [Fajita Vegetables, Rice, Cheese, Sour Cream, Lettuce]][Fresh Tomato Salsa, [Rice, Cheese, Sour Cream]][Fresh Tomato Salsa, [Rice, Cheese, Lettuce]][Fresh Tomato Salsa, [Fajita Vegetables, Rice, Sour Cream, Guacamole, Lettuce]][Fresh Tomato Salsa, [Fajita Vegetables, Rice, Cheese, Sour Cream, Guacamole, Lettuce]][Fresh Tomato Salsa, [Fajita Vegetables, Rice, Cheese, Sour Cream, Guacamole, Lettuce]][Tomatillo Red Chili Salsa, [Rice, Cheese, Lettuce]][Tomatillo Green Chili Salsa, [Rice, Pinto Beans, Sour Cream, Lettuce]][Fresh Tomato Salsa, [Fajita Vegetables, Rice, Lettuce]][Fresh Tomato Salsa, [Rice, Black Beans, Cheese, Sour Cream, Guacamole, Lettuce]][Fresh Tomato Salsa, [Fajita Vegetables, Rice, Black Beans, Cheese, Guacamole, Lettuce]][Fresh Tomato Salsa, [Guacamole, Sour Cream, Cheese, Rice, Fajita Vegetables]][Fresh Tomato Salsa, [Rice, Black Beans, Cheese, Sour Cream, Guacamole, Lettuce]][Tomatillo Red Chili Salsa, [Rice, Black Beans, Pinto Beans, Cheese, Sour Cream, Lettuce]][Tomatillo Red Chili Salsa, [Rice, Black Beans, Cheese, Sour Cream, Lettuce]][Fresh Tomato Salsa, [Rice, Cheese, Sour Cream, Guacamole]][Fresh Tomato Salsa, [Rice, Black Beans, Lettuce, Guacamole]][Tomatillo Green Chili Salsa, [Rice, Black Beans, Cheese, Sour Cream, Guacamole, Lettuce]][Fresh Tomato Salsa, [Rice, Black Beans, Pinto Beans, Cheese, Sour Cream]][Tomatillo Red Chili Salsa, [Rice, Black Beans, Cheese, Sour Cream, Lettuce]][Roasted Chili Corn Salsa, [Fajita Vegetables, Rice, Black Beans, Sour Cream, Lettuce]][Fresh Tomato Salsa, [Fajita Vegetables, Rice]][Fresh Tomato Salsa, [Fajita Vegetables, Rice, Lettuce]][Tomatillo Green Chili Salsa, [Fajita Vegetables, Rice, Black Beans, Cheese, Lettuce]][Fresh Tomato Salsa, [Rice, Black Beans, Sour Cream, Cheese]][White Rice][White Rice][Tomatillo Red Chili Salsa, [Rice, Black Beans, Cheese, Sour Cream, Lettuce]][Tomatillo Green Chili Salsa, [Rice, Pinto Beans, Sour Cream, Lettuce]][Fresh Tomato Salsa, [Fajita Vegetables, Rice, Cheese, Guacamole]][Fresh Tomato Salsa, [Rice, Black Beans, Cheese, Guacamole, Lettuce]][Fresh Tomato Salsa, [Pinto Beans, Rice, Lettuce, Cheese]][Fresh Tomato Salsa, [Rice, Black Beans, Cheese, Sour Cream, Lettuce]][Fresh Tomato Salsa, [Fajita Vegetables, Rice, Black Beans, Sour Cream, Lettuce]][Roasted Chili Corn Salsa, [Fajita Vegetables, Rice, Black Beans, Cheese, Guacamole]][Fresh Tomato Salsa, [Fajita Vegetables, Black Beans, Pinto Beans, Guacamole, Lettuce]][Tomatillo Red Chili Salsa, [Rice, Black Beans, Cheese, Guacamole]][Fresh Tomato Salsa, [Guacamole, Lettuce]][Tomatillo Red Chili Salsa, [Fajita Vegetables, Rice, Black Beans, Cheese, Sour Cream]][Fresh Tomato Salsa, [Rice, Black Beans, Cheese, Guacamole, Lettuce]][Fresh Tomato Salsa, [Rice, Black Beans, Cheese, Lettuce]][Roasted Chili Corn Salsa, [Rice, Pinto Beans, Sour Cream, Cheese, Guacamole]][Roasted Chili Corn Salsa, [Rice, Black Beans, Guacamole]][Fresh Tomato Salsa, [Pinto Beans, Rice, Cheese, Lettuce, Guacamole, Sour Cream, Fajita Vegetables]][Fresh Tomato Salsa, [Rice, Black Beans, Guacamole, Lettuce]][Fresh Tomato Salsa, [Rice, Cheese, Sour Cream, Lettuce]][Tomatillo Green Chili Salsa, [Fajita Vegetables, Black Beans, Sour Cream, Lettuce]][Fresh Tomato Salsa, [Fajita Vegetables, Rice, Black Beans, Pinto Beans, Cheese, Sour Cream]][Fresh Tomato Salsa, [Black Beans, Rice, Sour Cream, Cheese, Guacamole, Lettuce]][Fresh Tomato Salsa, [Rice, Black Beans, Pinto Beans, Cheese]][Fresh Tomato Salsa, [Rice, Black Beans, Pinto Beans, Cheese, Sour Cream, Guacamole]][Fresh Tomato Salsa, [Rice, Black Beans, Cheese]][Fresh Tomato Salsa, [Fajita Vegetables, Rice, Black Beans, Guacamole, Lettuce]][Tomatillo Green Chili Salsa, [Rice, Pinto Beans, Sour Cream, Lettuce]][Fresh Tomato Salsa, [Rice, Fajita Vegetables, Black Beans, Sour Cream, Cheese, Lettuce, Guacamole]][Fresh Tomato Salsa, [Rice, Black Beans, Cheese, Sour Cream, Guacamole]][Fresh Tomato Salsa, [Rice, Pinto Beans, Cheese, Lettuce]][Fresh Tomato Salsa, [Rice, Black Beans, Cheese, Sour Cream, Lettuce]][Tomatillo Green Chili Salsa, [Rice, Pinto Beans, Cheese, Sour Cream, Lettuce]][Fresh Tomato Salsa, [Rice, Black Beans, Sour Cream]][Fresh Tomato Salsa, [Rice, Black Beans, Cheese]][Fresh Tomato Salsa, Rice][Fresh Tomato Salsa, [Rice, Pinto Beans, Cheese, Sour Cream, Guacamole, Lettuce]][Fresh Tomato Salsa, [Fajita Vegetables, Rice, Black Beans, Cheese, Sour Cream, Guacamole, Lettuce]][Fresh Tomato Salsa, [Rice, Black Beans, Cheese, Sour Cream, Guacamole, Lettuce]][Fresh Tomato Salsa, [Fajita Vegetables, Rice, Sour Cream, Lettuce]][Fresh Tomato Salsa, [Rice, Pinto Beans, Sour Cream, Cheese, Lettuce, Guacamole]][Tomatillo Green Chili Salsa, [Fajita Vegetables, Rice, Sour Cream, Guacamole]][Fresh Tomato Salsa, [Rice, Cheese, Sour Cream, Guacamole]][Roasted Chili Corn Salsa, [Rice, Fajita Vegetables, Cheese, Lettuce]][Roasted Chili Corn Salsa, [Rice, Black Beans, Cheese, Sour Cream, Lettuce]][Fresh Tomato Salsa, [Rice, Black Beans, Cheese, Sour Cream]][Tomatillo Green Chili Salsa, [Fajita Vegetables, Rice, Pinto Beans, Cheese, Guacamole, Lettuce]][Roasted Chili Corn Salsa, [Black Beans, Sour Cream, Cheese, Guacamole]][Roasted Chili Corn Salsa, [Fajita Vegetables, Rice, Cheese, Sour Cream, Lettuce]][Fresh Tomato Salsa, [Fajita Vegetables, Rice, Pinto Beans, Cheese, Guacamole, Lettuce]][Roasted Chili Corn Salsa, [Rice, Cheese, Lettuce]][Fresh Tomato Salsa, [Rice, Cheese, Sour Cream, Guacamole]][Tomatillo Red Chili Salsa, [Rice, Black Beans, Pinto Beans, Cheese, Sour Cream, Lettuce]][Tomatillo Green Chili Salsa, [Rice, Black Beans, Sour Cream, Lettuce]][Fresh Tomato Salsa, [Rice, Black Beans, Cheese, Sour Cream, Guacamole, Lettuce]][Fresh Tomato Salsa, [Rice, Black Beans, Cheese, Sour Cream, Guacamole]][Fresh Tomato Salsa, [Rice, Black Beans, Sour Cream, Cheese, Lettuce, Guacamole]][Roasted Chili Corn Salsa, [Rice, Black Beans, Cheese, Lettuce, Guacamole]][Tomatillo Red Chili Salsa, [Rice, Black Beans, Sour Cream, Cheese, Lettuce]][Tomatillo Green Chili Salsa, [Rice, Black Beans]][Roasted Chili Corn Salsa, [Cheese, Lettuce]][Fresh Tomato Salsa, [Rice, Black Beans, Cheese, Sour Cream]]\"\n        ],\n        \"semantic_type\": \"\",\n        \"description\": \"\"\n      }\n    },\n    {\n      \"column\": \"item_price\",\n      \"properties\": {\n        \"dtype\": \"string\",\n        \"num_unique_values\": 1,\n        \"samples\": [\n          \"$16.98 $10.98 $11.25 $8.75 $8.49 $11.25 $8.75 $8.75 $8.75 $8.75 $11.25 $11.25 $11.25 $11.25 $17.50 $8.49 $10.98 $8.75 $8.75 $10.98 $8.75 $11.25 $11.25 $8.75 $8.75 $8.75 $8.75 $8.75 $8.75 $17.50 $8.75 $11.25 $11.25 $8.49 $11.25 $8.75 $8.75 $8.75 $8.75 $8.49 $8.75 $11.25 $11.25 $32.94 $11.25 $17.50 $8.75 $8.75 $11.25 $8.75 $8.49 $8.75 $8.75 $8.75 $11.25 $8.75 $8.75 $11.25 $11.25 $8.49 $8.75 $8.75 $8.75 $11.25 $10.98 $8.75 $11.25 $8.49 $8.75 $8.75 $8.75 $8.75 $8.49 $17.50 $8.49 $11.25 $11.25 $11.25 $11.25 $8.75 $8.75 $11.25 $8.49 $8.49 $8.75 $8.75 $8.75 $10.98 $8.75 $8.75 $10.98 $8.75 $11.25 $11.25 $8.75 $11.25 $11.25 $8.75 $8.49 $10.98 $8.75 $11.25 $8.75 $8.75 $8.75 $8.75 $8.49 $8.49 $8.75 $8.75 $11.25 $17.50 $8.75 $8.75 $8.75 $11.25 $11.25 $8.49 $10.98 $8.49 $8.49 $8.75 $8.75 $17.50 $8.75 $8.75 $8.75 $8.49 $8.75 $8.49 $11.25 $8.75 $8.75 $11.25 $17.50 $8.75 $8.75 $8.75 $11.25 $8.75 $8.75 $8.75 $8.49 $8.75 $11.25 $11.25 $8.75 $11.25 $11.25 $10.98 $10.98 $11.25 $11.25 $8.75 $8.75 $8.75 $11.25 $10.98 $8.75 $11.25 $8.75 $8.49 $8.49 $8.75 $8.75 $8.75 $8.75 $11.25 $8.75 $8.75 $10.98 $11.25 $8.49 $8.75 $8.75 $11.25 $22.50 $8.49 $8.75 $11.25 $8.49 $10.98 $8.75 $11.25 $8.75 $11.25 $8.75 $8.75 $8.75 $26.25 $8.75 $8.75 $11.25 $11.25 $8.49 $8.49 $8.49 $8.75 $8.75 $11.25 $11.25 $8.75 $8.75 $8.75 $8.75 $17.50 $11.25 $11.25 $8.75 $8.75 $11.25 $8.75 $8.49 $8.49 $11.25 $8.75 $8.49 $8.49 $8.49 $8.49 $8.75 $11.25 $11.25 $8.75 $8.49 $11.25 $8.49 $8.49 $11.25 $11.25 $10.98 $8.75 $8.75 $8.49 $8.75 $8.49 $8.49 $8.49 $8.75 $8.49 $10.98 $8.75 $11.25 $8.49 $8.75 $8.49 $11.25 $8.49 $8.75 $8.75 $21.96 $8.49 $8.75 $8.75 $8.75 $8.49 $8.49 $11.25 $8.75 $11.25 $8.75 $8.75 $8.49 $8.75 $8.75 $8.75 $8.49 $10.98 $8.75 $11.25 $8.49 $10.98 $10.98 $8.75 $10.98 $11.25 $11.25 $11.25 $11.25 $11.25 $8.75 $8.75 $8.49 $11.25 $8.75 $11.25 $11.25 $11.25 $8.75 $10.98 $10.98 $8.75 $8.49 $11.25 $8.75 $21.96 $8.75 $8.75 $17.50 $11.25 $8.75 $10.98 $8.49 $11.25 $8.75 $10.98 $8.75 $8.75 $8.75 $11.25 $8.75 $11.25 $8.75 $8.75 $8.75 $8.75 $11.25 $8.75 $11.25 $8.75 $8.75 $8.75 $8.75 $8.75 $8.75 $8.75 $8.75 $8.75 $8.75 $8.75 $8.75 $8.75 $8.75 $8.75 $8.75 $8.75 $11.25 $11.25 $8.75 $16.98 $8.75 $11.25 $8.75 $10.98 $8.75 $11.25 $8.75 $8.49 $8.75 $11.25 $8.75 $8.75 $8.75 $8.49 $11.25 $11.25 $8.49 $8.75 $8.75 $8.75 $8.75 $11.25 $8.75 $11.25 $10.98 $8.49 $8.75 $8.75 $8.49 $11.25 $8.75 $11.25 $22.50 $8.49 $11.25 $21.96 $8.75 $8.75 $8.49 $8.49 $11.25 $11.25 $11.25 $8.75 $11.25 $16.98 $10.98 $8.75 $8.75 $8.75 $11.25 $11.25 $11.25 $10.98 $11.25 $8.49 $8.75 $11.25 $8.75 $11.25 $8.75 $11.25 $10.98 $8.75 $8.75 $8.75 $8.75 $11.25 $11.25 $11.25 $8.75 $11.25 $8.75 $8.75 $11.25 $10.98 $16.98 $8.75 $11.25 $8.75 $8.75 $8.75 $11.25 $8.49 $10.98 $8.75 $8.75 $11.25 $8.75 $8.75 $8.75 $11.25 $11.25 $8.19 $10.58 $11.25 $8.75 $8.75 $21.96 $8.49 $8.49 $8.75 $11.25 $11.25 $8.49 $8.49 $8.49 $8.75 $11.25 $11.25 $11.25 $8.49 $11.25 $11.25 $8.75 $8.49 $8.49 $8.75 $11.25 $8.75 $8.49 $8.49 $11.25 $11.25 $11.25 $11.25 $11.25 $11.25 $8.49 $16.98 $8.49 $11.25 $8.19 $8.49 $8.75 $16.98 $21.96 $8.75 $11.25 $8.75 $8.49 $8.49 $8.49 $8.75 $8.75 $11.25 $8.75 $8.75 $11.25 $11.25 $8.49 $11.25 $8.49 $11.25 $11.25 $11.25 $8.75 $8.49 $8.49 $8.75 $11.25 $11.25 $8.75 $8.75 $11.25 $11.25 $8.75 $8.75 $8.75 $11.25 $8.75 $8.75 $8.75 $8.75 $8.75 $8.49 $8.49 $11.25 $8.49 $8.75 $11.25 $10.98 $8.49 $8.75 $17.50 $8.49 $8.75 $11.25 $11.25 $11.25 $11.25 $8.75 $8.75 $11.25 $11.25 $11.25 $8.75 $11.25 $8.75 $8.75 $8.49 $10.98 $21.96 $10.98 $8.49 $8.75 $11.25 $11.25 $8.75 $8.75 $8.75 $8.75 $8.49 $8.75 $10.98 $11.25 $10.98 $16.98 $16.98 $11.25 $11.25 $11.25 $11.25 $11.25 $11.25 $16.98 $8.19 $10.98 $10.98 $11.25 $11.25 $10.98 $8.49 $8.75 $8.75 $8.75 $11.25 $8.49 $11.25 $8.75 $8.49 $8.75 $10.98 $10.98 $11.25 $8.75 $11.25 $11.25 $11.25 $8.49 $8.49 $8.75 $11.25 $11.25 $21.96 $8.75 $8.49 $8.75 $8.75 $11.25 $11.25 $8.75 $8.75 $8.75 $11.25 $11.25 $10.98 $8.75 $11.25 $8.75 $8.75 $8.75 $8.75 $11.25 $8.49 $8.75 $8.75 $8.75 $16.98 $11.25 $8.75 $11.25 $11.25 $11.25 $8.49 $8.49 $8.75 $11.25 $11.25 $8.75 $8.75 $11.25 $8.75 $11.25 $8.49 $8.49 $10.98 $8.49 $8.75 $8.75 $8.75 $11.25 $11.25 $11.25 $8.75 $8.75 $8.75 $11.25 $11.25 $11.25 $11.25 $8.75 $8.75 $11.25 $11.25 $11.25 $8.75 $8.75 $8.75 $8.75 $8.75 $8.75 $8.75 $8.50 $8.50 $8.75 $8.75 $11.25 $11.25 $8.75 $8.75 $8.75 $11.25 $11.25 $11.25 $11.25 $8.75 $11.25 $8.75 $11.25 $11.25 $11.25 $11.25 $8.75 $8.75 $8.75 $11.25 $8.75 $11.25 $8.75 $11.25 $8.75 $22.50 $11.25 $17.50 $8.75 $8.75 $8.75 $8.75 $8.75 $11.25 $11.25 $11.25 $8.75 $11.25 $11.25 $11.25 $8.75 $8.75 $8.75 $11.25 $11.25 $8.75 $11.25 $8.75 $11.25 $8.75 $8.75 $11.25 $11.25 $11.25 $11.25 $8.75 $8.75 $8.75 $8.75 \"\n        ],\n        \"semantic_type\": \"\",\n        \"description\": \"\"\n      }\n    }\n  ]\n}"
            }
          },
          "metadata": {},
          "execution_count": 60
        }
      ],
      "source": [
        "chipo.groupby('item_name').sum().sort_values('quantity', ascending=False).head(1)"
      ]
    },
    {
      "cell_type": "markdown",
      "metadata": {
        "id": "TL2W6f-QNEzx"
      },
      "source": [
        "### Step 10. For the most-ordered item, how many items were ordered?"
      ]
    },
    {
      "cell_type": "code",
      "execution_count": 45,
      "metadata": {
        "colab": {
          "base_uri": "https://localhost:8080/",
          "height": 146
        },
        "id": "-jAhgYU1NEzx",
        "outputId": "64ae241a-2c47-41d3-e19a-1e5ba37f976c"
      },
      "outputs": [
        {
          "output_type": "execute_result",
          "data": {
            "text/plain": [
              "item_name\n",
              "Chicken Bowl    761\n",
              "Name: quantity, dtype: int64"
            ],
            "text/html": [
              "<div>\n",
              "<style scoped>\n",
              "    .dataframe tbody tr th:only-of-type {\n",
              "        vertical-align: middle;\n",
              "    }\n",
              "\n",
              "    .dataframe tbody tr th {\n",
              "        vertical-align: top;\n",
              "    }\n",
              "\n",
              "    .dataframe thead th {\n",
              "        text-align: right;\n",
              "    }\n",
              "</style>\n",
              "<table border=\"1\" class=\"dataframe\">\n",
              "  <thead>\n",
              "    <tr style=\"text-align: right;\">\n",
              "      <th></th>\n",
              "      <th>quantity</th>\n",
              "    </tr>\n",
              "    <tr>\n",
              "      <th>item_name</th>\n",
              "      <th></th>\n",
              "    </tr>\n",
              "  </thead>\n",
              "  <tbody>\n",
              "    <tr>\n",
              "      <th>Chicken Bowl</th>\n",
              "      <td>761</td>\n",
              "    </tr>\n",
              "  </tbody>\n",
              "</table>\n",
              "</div><br><label><b>dtype:</b> int64</label>"
            ]
          },
          "metadata": {},
          "execution_count": 45
        }
      ],
      "source": [
        "chipo.groupby('item_name').sum().sort_values('quantity', ascending=False).quantity.head(1)"
      ]
    },
    {
      "cell_type": "markdown",
      "metadata": {
        "id": "infxc9R1NEzx"
      },
      "source": [
        "### Step 11. What was the most ordered item in the choice_description column?"
      ]
    },
    {
      "cell_type": "code",
      "execution_count": 63,
      "metadata": {
        "colab": {
          "base_uri": "https://localhost:8080/",
          "height": 455
        },
        "id": "s1jIOUwSNEzx",
        "outputId": "5ca2ea62-0e3f-413f-cee6-681d1975cb2d"
      },
      "outputs": [
        {
          "output_type": "execute_result",
          "data": {
            "text/plain": [
              "                                                    order_id  quantity  \\\n",
              "choice_description                                                       \n",
              "[Diet Coke]                                           123455       159   \n",
              "[Coke]                                                122752       143   \n",
              "[Sprite]                                               80426        89   \n",
              "[Fresh Tomato Salsa, [Rice, Black Beans, Cheese...     43088        49   \n",
              "[Fresh Tomato Salsa, [Rice, Black Beans, Cheese...     36041        42   \n",
              "...                                                      ...       ...   \n",
              "[[Tomatillo-Red Chili Salsa (Hot), Fresh Tomato...       988         1   \n",
              "[[Tomatillo-Red Chili Salsa (Hot), Fresh Tomato...        76         1   \n",
              "[[Tomatillo-Red Chili Salsa (Hot), Fresh Tomato...      1338         1   \n",
              "[[Tomatillo-Red Chili Salsa (Hot), Fresh Tomato...       579         1   \n",
              "[[Tomatillo-Red Chili Salsa (Hot), Fresh Tomato...      1010         1   \n",
              "\n",
              "                                                                                            item_name  \\\n",
              "choice_description                                                                                      \n",
              "[Diet Coke]                                         Canned SodaCanned SodaCanned Soda6 Pack Soft D...   \n",
              "[Coke]                                              Canned Soft DrinkCanned Soft DrinkCanned Soft ...   \n",
              "[Sprite]                                            Canned SodaCanned SodaCanned Soft Drink6 Pack ...   \n",
              "[Fresh Tomato Salsa, [Rice, Black Beans, Cheese...  Chicken BowlChicken BurritoChicken BowlChicken...   \n",
              "[Fresh Tomato Salsa, [Rice, Black Beans, Cheese...  Chicken BowlChicken BowlChicken BurritoCarnita...   \n",
              "...                                                                                               ...   \n",
              "[[Tomatillo-Red Chili Salsa (Hot), Fresh Tomato...                                      Carnitas Bowl   \n",
              "[[Tomatillo-Red Chili Salsa (Hot), Fresh Tomato...                                    Chicken Burrito   \n",
              "[[Tomatillo-Red Chili Salsa (Hot), Fresh Tomato...                                         Steak Bowl   \n",
              "[[Tomatillo-Red Chili Salsa (Hot), Fresh Tomato...                                      Carnitas Bowl   \n",
              "[[Tomatillo-Red Chili Salsa (Hot), Fresh Tomato...                                      Carnitas Bowl   \n",
              "\n",
              "                                                                                           item_price  \n",
              "choice_description                                                                                     \n",
              "[Diet Coke]                                         $2.18 $1.09 $1.09 $6.49 $2.18 $1.25 $1.09 $6.4...  \n",
              "[Coke]                                              $1.25 $1.25 $1.25 $6.49 $1.25 $1.25 $1.25 $1.2...  \n",
              "[Sprite]                                            $2.18 $1.09 $1.25 $6.49 $1.25 $1.25 $1.09 $1.2...  \n",
              "[Fresh Tomato Salsa, [Rice, Black Beans, Cheese...  $8.75 $8.75 $8.75 $8.75 $9.25 $8.75 $8.75 $8.7...  \n",
              "[Fresh Tomato Salsa, [Rice, Black Beans, Cheese...  $17.50 $8.75 $8.75 $9.25 $8.75 $9.25 $8.75 $8....  \n",
              "...                                                                                               ...  \n",
              "[[Tomatillo-Red Chili Salsa (Hot), Fresh Tomato...                                            $11.48   \n",
              "[[Tomatillo-Red Chili Salsa (Hot), Fresh Tomato...                                             $8.49   \n",
              "[[Tomatillo-Red Chili Salsa (Hot), Fresh Tomato...                                             $8.99   \n",
              "[[Tomatillo-Red Chili Salsa (Hot), Fresh Tomato...                                            $11.48   \n",
              "[[Tomatillo-Red Chili Salsa (Hot), Fresh Tomato...                                            $11.48   \n",
              "\n",
              "[1043 rows x 4 columns]"
            ],
            "text/html": [
              "\n",
              "  <div id=\"df-8155b56e-63e8-4e39-b08d-fec144665cc2\" class=\"colab-df-container\">\n",
              "    <div>\n",
              "<style scoped>\n",
              "    .dataframe tbody tr th:only-of-type {\n",
              "        vertical-align: middle;\n",
              "    }\n",
              "\n",
              "    .dataframe tbody tr th {\n",
              "        vertical-align: top;\n",
              "    }\n",
              "\n",
              "    .dataframe thead th {\n",
              "        text-align: right;\n",
              "    }\n",
              "</style>\n",
              "<table border=\"1\" class=\"dataframe\">\n",
              "  <thead>\n",
              "    <tr style=\"text-align: right;\">\n",
              "      <th></th>\n",
              "      <th>order_id</th>\n",
              "      <th>quantity</th>\n",
              "      <th>item_name</th>\n",
              "      <th>item_price</th>\n",
              "    </tr>\n",
              "    <tr>\n",
              "      <th>choice_description</th>\n",
              "      <th></th>\n",
              "      <th></th>\n",
              "      <th></th>\n",
              "      <th></th>\n",
              "    </tr>\n",
              "  </thead>\n",
              "  <tbody>\n",
              "    <tr>\n",
              "      <th>[Diet Coke]</th>\n",
              "      <td>123455</td>\n",
              "      <td>159</td>\n",
              "      <td>Canned SodaCanned SodaCanned Soda6 Pack Soft D...</td>\n",
              "      <td>$2.18 $1.09 $1.09 $6.49 $2.18 $1.25 $1.09 $6.4...</td>\n",
              "    </tr>\n",
              "    <tr>\n",
              "      <th>[Coke]</th>\n",
              "      <td>122752</td>\n",
              "      <td>143</td>\n",
              "      <td>Canned Soft DrinkCanned Soft DrinkCanned Soft ...</td>\n",
              "      <td>$1.25 $1.25 $1.25 $6.49 $1.25 $1.25 $1.25 $1.2...</td>\n",
              "    </tr>\n",
              "    <tr>\n",
              "      <th>[Sprite]</th>\n",
              "      <td>80426</td>\n",
              "      <td>89</td>\n",
              "      <td>Canned SodaCanned SodaCanned Soft Drink6 Pack ...</td>\n",
              "      <td>$2.18 $1.09 $1.25 $6.49 $1.25 $1.25 $1.09 $1.2...</td>\n",
              "    </tr>\n",
              "    <tr>\n",
              "      <th>[Fresh Tomato Salsa, [Rice, Black Beans, Cheese, Sour Cream, Lettuce]]</th>\n",
              "      <td>43088</td>\n",
              "      <td>49</td>\n",
              "      <td>Chicken BowlChicken BurritoChicken BowlChicken...</td>\n",
              "      <td>$8.75 $8.75 $8.75 $8.75 $9.25 $8.75 $8.75 $8.7...</td>\n",
              "    </tr>\n",
              "    <tr>\n",
              "      <th>[Fresh Tomato Salsa, [Rice, Black Beans, Cheese, Sour Cream]]</th>\n",
              "      <td>36041</td>\n",
              "      <td>42</td>\n",
              "      <td>Chicken BowlChicken BowlChicken BurritoCarnita...</td>\n",
              "      <td>$17.50 $8.75 $8.75 $9.25 $8.75 $9.25 $8.75 $8....</td>\n",
              "    </tr>\n",
              "    <tr>\n",
              "      <th>...</th>\n",
              "      <td>...</td>\n",
              "      <td>...</td>\n",
              "      <td>...</td>\n",
              "      <td>...</td>\n",
              "    </tr>\n",
              "    <tr>\n",
              "      <th>[[Tomatillo-Red Chili Salsa (Hot), Fresh Tomato Salsa (Mild)], [Pinto Beans, Cheese, Guacamole, Lettuce]]</th>\n",
              "      <td>988</td>\n",
              "      <td>1</td>\n",
              "      <td>Carnitas Bowl</td>\n",
              "      <td>$11.48</td>\n",
              "    </tr>\n",
              "    <tr>\n",
              "      <th>[[Tomatillo-Red Chili Salsa (Hot), Fresh Tomato Salsa (Mild)], [Rice, Black Beans, Cheese, Lettuce]]</th>\n",
              "      <td>76</td>\n",
              "      <td>1</td>\n",
              "      <td>Chicken Burrito</td>\n",
              "      <td>$8.49</td>\n",
              "    </tr>\n",
              "    <tr>\n",
              "      <th>[[Tomatillo-Red Chili Salsa (Hot), Fresh Tomato Salsa (Mild)], [Rice, Black Beans, Lettuce]]</th>\n",
              "      <td>1338</td>\n",
              "      <td>1</td>\n",
              "      <td>Steak Bowl</td>\n",
              "      <td>$8.99</td>\n",
              "    </tr>\n",
              "    <tr>\n",
              "      <th>[[Tomatillo-Red Chili Salsa (Hot), Fresh Tomato Salsa (Mild)], [Rice, Fajita Veggies, Cheese, Sour Cream, Guacamole, Lettuce]]</th>\n",
              "      <td>579</td>\n",
              "      <td>1</td>\n",
              "      <td>Carnitas Bowl</td>\n",
              "      <td>$11.48</td>\n",
              "    </tr>\n",
              "    <tr>\n",
              "      <th>[[Tomatillo-Red Chili Salsa (Hot), Fresh Tomato Salsa (Mild)], [Rice, Pinto Beans, Cheese, Guacamole]]</th>\n",
              "      <td>1010</td>\n",
              "      <td>1</td>\n",
              "      <td>Carnitas Bowl</td>\n",
              "      <td>$11.48</td>\n",
              "    </tr>\n",
              "  </tbody>\n",
              "</table>\n",
              "<p>1043 rows × 4 columns</p>\n",
              "</div>\n",
              "    <div class=\"colab-df-buttons\">\n",
              "\n",
              "  <div class=\"colab-df-container\">\n",
              "    <button class=\"colab-df-convert\" onclick=\"convertToInteractive('df-8155b56e-63e8-4e39-b08d-fec144665cc2')\"\n",
              "            title=\"Convert this dataframe to an interactive table.\"\n",
              "            style=\"display:none;\">\n",
              "\n",
              "  <svg xmlns=\"http://www.w3.org/2000/svg\" height=\"24px\" viewBox=\"0 -960 960 960\">\n",
              "    <path d=\"M120-120v-720h720v720H120Zm60-500h600v-160H180v160Zm220 220h160v-160H400v160Zm0 220h160v-160H400v160ZM180-400h160v-160H180v160Zm440 0h160v-160H620v160ZM180-180h160v-160H180v160Zm440 0h160v-160H620v160Z\"/>\n",
              "  </svg>\n",
              "    </button>\n",
              "\n",
              "  <style>\n",
              "    .colab-df-container {\n",
              "      display:flex;\n",
              "      gap: 12px;\n",
              "    }\n",
              "\n",
              "    .colab-df-convert {\n",
              "      background-color: #E8F0FE;\n",
              "      border: none;\n",
              "      border-radius: 50%;\n",
              "      cursor: pointer;\n",
              "      display: none;\n",
              "      fill: #1967D2;\n",
              "      height: 32px;\n",
              "      padding: 0 0 0 0;\n",
              "      width: 32px;\n",
              "    }\n",
              "\n",
              "    .colab-df-convert:hover {\n",
              "      background-color: #E2EBFA;\n",
              "      box-shadow: 0px 1px 2px rgba(60, 64, 67, 0.3), 0px 1px 3px 1px rgba(60, 64, 67, 0.15);\n",
              "      fill: #174EA6;\n",
              "    }\n",
              "\n",
              "    .colab-df-buttons div {\n",
              "      margin-bottom: 4px;\n",
              "    }\n",
              "\n",
              "    [theme=dark] .colab-df-convert {\n",
              "      background-color: #3B4455;\n",
              "      fill: #D2E3FC;\n",
              "    }\n",
              "\n",
              "    [theme=dark] .colab-df-convert:hover {\n",
              "      background-color: #434B5C;\n",
              "      box-shadow: 0px 1px 3px 1px rgba(0, 0, 0, 0.15);\n",
              "      filter: drop-shadow(0px 1px 2px rgba(0, 0, 0, 0.3));\n",
              "      fill: #FFFFFF;\n",
              "    }\n",
              "  </style>\n",
              "\n",
              "    <script>\n",
              "      const buttonEl =\n",
              "        document.querySelector('#df-8155b56e-63e8-4e39-b08d-fec144665cc2 button.colab-df-convert');\n",
              "      buttonEl.style.display =\n",
              "        google.colab.kernel.accessAllowed ? 'block' : 'none';\n",
              "\n",
              "      async function convertToInteractive(key) {\n",
              "        const element = document.querySelector('#df-8155b56e-63e8-4e39-b08d-fec144665cc2');\n",
              "        const dataTable =\n",
              "          await google.colab.kernel.invokeFunction('convertToInteractive',\n",
              "                                                    [key], {});\n",
              "        if (!dataTable) return;\n",
              "\n",
              "        const docLinkHtml = 'Like what you see? Visit the ' +\n",
              "          '<a target=\"_blank\" href=https://colab.research.google.com/notebooks/data_table.ipynb>data table notebook</a>'\n",
              "          + ' to learn more about interactive tables.';\n",
              "        element.innerHTML = '';\n",
              "        dataTable['output_type'] = 'display_data';\n",
              "        await google.colab.output.renderOutput(dataTable, element);\n",
              "        const docLink = document.createElement('div');\n",
              "        docLink.innerHTML = docLinkHtml;\n",
              "        element.appendChild(docLink);\n",
              "      }\n",
              "    </script>\n",
              "  </div>\n",
              "\n",
              "\n",
              "    <div id=\"df-48bc0d84-33ab-4d4d-929b-8de7380ae9aa\">\n",
              "      <button class=\"colab-df-quickchart\" onclick=\"quickchart('df-48bc0d84-33ab-4d4d-929b-8de7380ae9aa')\"\n",
              "                title=\"Suggest charts\"\n",
              "                style=\"display:none;\">\n",
              "\n",
              "<svg xmlns=\"http://www.w3.org/2000/svg\" height=\"24px\"viewBox=\"0 0 24 24\"\n",
              "     width=\"24px\">\n",
              "    <g>\n",
              "        <path d=\"M19 3H5c-1.1 0-2 .9-2 2v14c0 1.1.9 2 2 2h14c1.1 0 2-.9 2-2V5c0-1.1-.9-2-2-2zM9 17H7v-7h2v7zm4 0h-2V7h2v10zm4 0h-2v-4h2v4z\"/>\n",
              "    </g>\n",
              "</svg>\n",
              "      </button>\n",
              "\n",
              "<style>\n",
              "  .colab-df-quickchart {\n",
              "      --bg-color: #E8F0FE;\n",
              "      --fill-color: #1967D2;\n",
              "      --hover-bg-color: #E2EBFA;\n",
              "      --hover-fill-color: #174EA6;\n",
              "      --disabled-fill-color: #AAA;\n",
              "      --disabled-bg-color: #DDD;\n",
              "  }\n",
              "\n",
              "  [theme=dark] .colab-df-quickchart {\n",
              "      --bg-color: #3B4455;\n",
              "      --fill-color: #D2E3FC;\n",
              "      --hover-bg-color: #434B5C;\n",
              "      --hover-fill-color: #FFFFFF;\n",
              "      --disabled-bg-color: #3B4455;\n",
              "      --disabled-fill-color: #666;\n",
              "  }\n",
              "\n",
              "  .colab-df-quickchart {\n",
              "    background-color: var(--bg-color);\n",
              "    border: none;\n",
              "    border-radius: 50%;\n",
              "    cursor: pointer;\n",
              "    display: none;\n",
              "    fill: var(--fill-color);\n",
              "    height: 32px;\n",
              "    padding: 0;\n",
              "    width: 32px;\n",
              "  }\n",
              "\n",
              "  .colab-df-quickchart:hover {\n",
              "    background-color: var(--hover-bg-color);\n",
              "    box-shadow: 0 1px 2px rgba(60, 64, 67, 0.3), 0 1px 3px 1px rgba(60, 64, 67, 0.15);\n",
              "    fill: var(--button-hover-fill-color);\n",
              "  }\n",
              "\n",
              "  .colab-df-quickchart-complete:disabled,\n",
              "  .colab-df-quickchart-complete:disabled:hover {\n",
              "    background-color: var(--disabled-bg-color);\n",
              "    fill: var(--disabled-fill-color);\n",
              "    box-shadow: none;\n",
              "  }\n",
              "\n",
              "  .colab-df-spinner {\n",
              "    border: 2px solid var(--fill-color);\n",
              "    border-color: transparent;\n",
              "    border-bottom-color: var(--fill-color);\n",
              "    animation:\n",
              "      spin 1s steps(1) infinite;\n",
              "  }\n",
              "\n",
              "  @keyframes spin {\n",
              "    0% {\n",
              "      border-color: transparent;\n",
              "      border-bottom-color: var(--fill-color);\n",
              "      border-left-color: var(--fill-color);\n",
              "    }\n",
              "    20% {\n",
              "      border-color: transparent;\n",
              "      border-left-color: var(--fill-color);\n",
              "      border-top-color: var(--fill-color);\n",
              "    }\n",
              "    30% {\n",
              "      border-color: transparent;\n",
              "      border-left-color: var(--fill-color);\n",
              "      border-top-color: var(--fill-color);\n",
              "      border-right-color: var(--fill-color);\n",
              "    }\n",
              "    40% {\n",
              "      border-color: transparent;\n",
              "      border-right-color: var(--fill-color);\n",
              "      border-top-color: var(--fill-color);\n",
              "    }\n",
              "    60% {\n",
              "      border-color: transparent;\n",
              "      border-right-color: var(--fill-color);\n",
              "    }\n",
              "    80% {\n",
              "      border-color: transparent;\n",
              "      border-right-color: var(--fill-color);\n",
              "      border-bottom-color: var(--fill-color);\n",
              "    }\n",
              "    90% {\n",
              "      border-color: transparent;\n",
              "      border-bottom-color: var(--fill-color);\n",
              "    }\n",
              "  }\n",
              "</style>\n",
              "\n",
              "      <script>\n",
              "        async function quickchart(key) {\n",
              "          const quickchartButtonEl =\n",
              "            document.querySelector('#' + key + ' button');\n",
              "          quickchartButtonEl.disabled = true;  // To prevent multiple clicks.\n",
              "          quickchartButtonEl.classList.add('colab-df-spinner');\n",
              "          try {\n",
              "            const charts = await google.colab.kernel.invokeFunction(\n",
              "                'suggestCharts', [key], {});\n",
              "          } catch (error) {\n",
              "            console.error('Error during call to suggestCharts:', error);\n",
              "          }\n",
              "          quickchartButtonEl.classList.remove('colab-df-spinner');\n",
              "          quickchartButtonEl.classList.add('colab-df-quickchart-complete');\n",
              "        }\n",
              "        (() => {\n",
              "          let quickchartButtonEl =\n",
              "            document.querySelector('#df-48bc0d84-33ab-4d4d-929b-8de7380ae9aa button');\n",
              "          quickchartButtonEl.style.display =\n",
              "            google.colab.kernel.accessAllowed ? 'block' : 'none';\n",
              "        })();\n",
              "      </script>\n",
              "    </div>\n",
              "\n",
              "    </div>\n",
              "  </div>\n"
            ],
            "application/vnd.google.colaboratory.intrinsic+json": {
              "type": "dataframe",
              "summary": "{\n  \"name\": \"chipo\",\n  \"rows\": 1043,\n  \"fields\": [\n    {\n      \"column\": \"choice_description\",\n      \"properties\": {\n        \"dtype\": \"string\",\n        \"num_unique_values\": 1043,\n        \"samples\": [\n          \"[Roasted Chili Corn Salsa, [Fajita Vegetables, Rice, Cheese, Sour Cream, Guacamole]]\",\n          \"[Tomatillo-Red Chili Salsa (Hot), [Black Beans, Rice, Cheese, Sour Cream, Guacamole, Lettuce]]\",\n          \"[Roasted Chili Corn Salsa, [Rice, Black Beans, Guacamole, Lettuce]]\"\n        ],\n        \"semantic_type\": \"\",\n        \"description\": \"\"\n      }\n    },\n    {\n      \"column\": \"order_id\",\n      \"properties\": {\n        \"dtype\": \"number\",\n        \"std\": 7177,\n        \"min\": 4,\n        \"max\": 123455,\n        \"num_unique_values\": 922,\n        \"samples\": [\n          3278,\n          348,\n          855\n        ],\n        \"semantic_type\": \"\",\n        \"description\": \"\"\n      }\n    },\n    {\n      \"column\": \"quantity\",\n      \"properties\": {\n        \"dtype\": \"number\",\n        \"std\": 8,\n        \"min\": 1,\n        \"max\": 159,\n        \"num_unique_values\": 34,\n        \"samples\": [\n          20,\n          15,\n          7\n        ],\n        \"semantic_type\": \"\",\n        \"description\": \"\"\n      }\n    },\n    {\n      \"column\": \"item_name\",\n      \"properties\": {\n        \"dtype\": \"category\",\n        \"num_unique_values\": 404,\n        \"samples\": [\n          \"Chicken BurritoSteak BurritoSteak BurritoChicken Salad BowlSteak BurritoSteak BurritoSteak BurritoSteak BurritoBarbacoa Salad Bowl\",\n          \"Chicken BurritoSteak BurritoSteak BurritoSteak Burrito\",\n          \"Burrito\"\n        ],\n        \"semantic_type\": \"\",\n        \"description\": \"\"\n      }\n    },\n    {\n      \"column\": \"item_price\",\n      \"properties\": {\n        \"dtype\": \"category\",\n        \"num_unique_values\": 284,\n        \"samples\": [\n          \"$9.25 $8.75 $9.25 $8.75 $8.75 $8.75 $8.75 $8.75 $8.75 $8.75 $8.75 $8.75 $8.75 $9.25 $8.75 $8.75 $9.25 $8.75 $8.75 $8.75 $17.50 $8.75 $8.75 $8.75 $9.25 $8.75 $8.75 $8.75 $8.75 \",\n          \"$8.75 $8.75 \",\n          \"$8.75 $8.75 $9.25 $9.25 $9.25 \"\n        ],\n        \"semantic_type\": \"\",\n        \"description\": \"\"\n      }\n    }\n  ]\n}"
            }
          },
          "metadata": {},
          "execution_count": 63
        }
      ],
      "source": [
        "chipo.groupby('choice_description').sum().sort_values(['quantity'], ascending=False)"
      ]
    },
    {
      "cell_type": "markdown",
      "metadata": {
        "id": "ZldDjCl2NEzx"
      },
      "source": [
        "### Step 12. How many items were orderd in total?"
      ]
    },
    {
      "cell_type": "code",
      "execution_count": 69,
      "metadata": {
        "colab": {
          "base_uri": "https://localhost:8080/"
        },
        "id": "mIZnlX1UNEzx",
        "outputId": "63b43f3c-7e2a-49b9-a015-cb775ddfaeb5"
      },
      "outputs": [
        {
          "output_type": "execute_result",
          "data": {
            "text/plain": [
              "np.int64(4972)"
            ]
          },
          "metadata": {},
          "execution_count": 69
        }
      ],
      "source": [
        "chipo.quantity.sum()"
      ]
    },
    {
      "cell_type": "markdown",
      "metadata": {
        "id": "HkTgazgINEzx"
      },
      "source": [
        "### Step 13. Turn the item price into a float"
      ]
    },
    {
      "cell_type": "markdown",
      "metadata": {
        "id": "rilKIRs6NEzy"
      },
      "source": [
        "#### Step 13.a. Check the item price type"
      ]
    },
    {
      "cell_type": "code",
      "execution_count": 83,
      "metadata": {
        "colab": {
          "base_uri": "https://localhost:8080/"
        },
        "id": "bedtXE5LNEzy",
        "outputId": "1a02faab-324d-47d7-bea4-72da01d9848b"
      },
      "outputs": [
        {
          "output_type": "execute_result",
          "data": {
            "text/plain": [
              "dtype('float64')"
            ]
          },
          "metadata": {},
          "execution_count": 83
        }
      ],
      "source": [
        "chipo.item_price.dtype"
      ]
    },
    {
      "cell_type": "markdown",
      "metadata": {
        "id": "tfufr-pgNEzy"
      },
      "source": [
        "#### Step 13.b. Create a lambda function and change the type of item price"
      ]
    },
    {
      "cell_type": "code",
      "execution_count": 76,
      "metadata": {
        "collapsed": true,
        "id": "R8ChbnHqNEzy"
      },
      "outputs": [],
      "source": [
        "remove_dollar = lambda x: float(x[1:-1])\n",
        "\n",
        "chipo['item_price'] = chipo.item_price.apply(remove_dollar)"
      ]
    },
    {
      "cell_type": "markdown",
      "metadata": {
        "id": "BmWd_i4qNEzy"
      },
      "source": [
        "#### Step 13.c. Check the item price type"
      ]
    },
    {
      "cell_type": "code",
      "execution_count": 82,
      "metadata": {
        "colab": {
          "base_uri": "https://localhost:8080/"
        },
        "id": "B9KUrP3XNEzy",
        "outputId": "3d761e2c-6006-4aee-8cc5-eac1a9e525a9"
      },
      "outputs": [
        {
          "output_type": "execute_result",
          "data": {
            "text/plain": [
              "dtype('float64')"
            ]
          },
          "metadata": {},
          "execution_count": 82
        }
      ],
      "source": [
        "chipo.item_price.dtype"
      ]
    },
    {
      "cell_type": "markdown",
      "metadata": {
        "id": "qOeXbWJWNEzy"
      },
      "source": [
        "### Step 14. How much was the revenue for the period in the dataset?"
      ]
    },
    {
      "cell_type": "code",
      "execution_count": 85,
      "metadata": {
        "colab": {
          "base_uri": "https://localhost:8080/",
          "height": 35
        },
        "id": "CtFs8S0YNEzy",
        "outputId": "0d556303-a3b3-498a-be10-b12f2f454e3c"
      },
      "outputs": [
        {
          "output_type": "execute_result",
          "data": {
            "text/plain": [
              "'Total revenue from Chipotel sales: $39237.02'"
            ],
            "application/vnd.google.colaboratory.intrinsic+json": {
              "type": "string"
            }
          },
          "metadata": {},
          "execution_count": 85
        }
      ],
      "source": [
        "chipo['total_cost'] = chipo.item_price * chipo.quantity\n",
        "\n",
        "f'Total revenue from Chipotel sales: ${chipo.total_cost.sum()}'"
      ]
    },
    {
      "cell_type": "markdown",
      "metadata": {
        "id": "_VQo7ftfNEzy"
      },
      "source": [
        "### Step 15. How many orders were made in the period?"
      ]
    },
    {
      "cell_type": "code",
      "execution_count": 90,
      "metadata": {
        "colab": {
          "base_uri": "https://localhost:8080/",
          "height": 35
        },
        "id": "xBz3VOb9NEzz",
        "outputId": "fb71a165-7d94-45db-d0c2-429ccaa70e72"
      },
      "outputs": [
        {
          "output_type": "execute_result",
          "data": {
            "text/plain": [
              "'Total orders made in the period: 1834'"
            ],
            "application/vnd.google.colaboratory.intrinsic+json": {
              "type": "string"
            }
          },
          "metadata": {},
          "execution_count": 90
        }
      ],
      "source": [
        "f'Total orders made in the period: {len(chipo.order_id.unique())}'"
      ]
    },
    {
      "cell_type": "markdown",
      "metadata": {
        "id": "3hKWGQE0NEzz"
      },
      "source": [
        "### Step 16. What is the average revenue amount per order?"
      ]
    },
    {
      "cell_type": "code",
      "execution_count": 133,
      "metadata": {
        "colab": {
          "base_uri": "https://localhost:8080/",
          "height": 35
        },
        "id": "rneC7V5ANEzz",
        "outputId": "05c6607c-226c-479b-b62c-1b9571b284b0"
      },
      "outputs": [
        {
          "output_type": "execute_result",
          "data": {
            "text/plain": [
              "'Average revenue amount per order: $21.39'"
            ],
            "application/vnd.google.colaboratory.intrinsic+json": {
              "type": "string"
            }
          },
          "metadata": {},
          "execution_count": 133
        }
      ],
      "source": [
        "# Solution 1\n",
        "avg_revenue_per_order = chipo.groupby('order_id').total_cost.sum().mean().round(2)\n",
        "f'Average revenue amount per order: ${avg_revenue_per_order}'"
      ]
    },
    {
      "cell_type": "code",
      "execution_count": null,
      "metadata": {
        "id": "AYdNm2AkNEzz"
      },
      "outputs": [],
      "source": [
        "# Solution 2\n",
        "\n"
      ]
    },
    {
      "cell_type": "markdown",
      "metadata": {
        "id": "RACEAxlxNEz2"
      },
      "source": [
        "### Step 17. How many different items are sold?"
      ]
    },
    {
      "cell_type": "code",
      "execution_count": 137,
      "metadata": {
        "colab": {
          "base_uri": "https://localhost:8080/"
        },
        "id": "FaM8XyLANEz2",
        "outputId": "36344502-f64c-42a7-f36f-e996aef35641"
      },
      "outputs": [
        {
          "output_type": "execute_result",
          "data": {
            "text/plain": [
              "50"
            ]
          },
          "metadata": {},
          "execution_count": 137
        }
      ],
      "source": [
        "len(chipo.item_name.unique())"
      ]
    }
  ],
  "metadata": {
    "anaconda-cloud": {},
    "kernelspec": {
      "display_name": "Python [default]",
      "language": "python",
      "name": "python2"
    },
    "language_info": {
      "codemirror_mode": {
        "name": "ipython",
        "version": 2
      },
      "file_extension": ".py",
      "mimetype": "text/x-python",
      "name": "python",
      "nbconvert_exporter": "python",
      "pygments_lexer": "ipython2",
      "version": "2.7.12"
    },
    "colab": {
      "provenance": [],
      "include_colab_link": true
    }
  },
  "nbformat": 4,
  "nbformat_minor": 0
}